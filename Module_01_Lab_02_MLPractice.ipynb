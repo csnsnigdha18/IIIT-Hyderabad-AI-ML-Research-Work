{
  "nbformat": 4,
  "nbformat_minor": 0,
  "metadata": {
    "colab": {
      "provenance": [],
      "include_colab_link": true
    },
    "kernelspec": {
      "name": "python3",
      "display_name": "Python 3"
    },
    "language_info": {
      "name": "python"
    }
  },
  "cells": [
    {
      "cell_type": "markdown",
      "metadata": {
        "id": "view-in-github",
        "colab_type": "text"
      },
      "source": [
        "<a href=\"https://colab.research.google.com/github/csnsnigdha18/IIIT-Hyderabad-AI-ML-Research-Work/blob/main/Module_01_Lab_02_MLPractice.ipynb\" target=\"_parent\"><img src=\"https://colab.research.google.com/assets/colab-badge.svg\" alt=\"Open In Colab\"/></a>"
      ]
    },
    {
      "cell_type": "markdown",
      "metadata": {
        "id": "3Eu9VZbF01eq"
      },
      "source": [
        "##AIML Module 1 - Lab 2\n",
        "# Machine learning terms and metrics\n",
        "\n",
        "\n",
        " In this lab, we will show a part of the ML pipeline by extracting features, training and testing"
      ]
    },
    {
      "cell_type": "code",
      "metadata": {
        "id": "8qBvyEem0vLi"
      },
      "source": [
        "import matplotlib.pyplot as plt\n",
        "import numpy as np\n",
        "from sklearn import datasets\n",
        "# set randomseed\n",
        "rng = np.random.default_rng(seed=42)"
      ],
      "execution_count": null,
      "outputs": []
    },
    {
      "cell_type": "markdown",
      "metadata": {
        "id": "u3t59g5s1HfC"
      },
      "source": [
        "In this lab, we will use the California Housing dataset. There are 20640 samples, each with 8 attributes like income of the block, age of the houses per district etc. The task is to predict the cost of the houses per district.\n",
        "\n",
        "Let us download and examine the dataset."
      ]
    },
    {
      "cell_type": "code",
      "metadata": {
        "id": "8LpqjN991GGJ",
        "colab": {
          "base_uri": "https://localhost:8080/"
        },
        "outputId": "1ccd4463-6a3f-4d40-c62d-8325af05f885"
      },
      "source": [
        " dataset =  datasets.fetch_california_housing()\n",
        " # print(dataset.DESCR)  # uncomment this if you want to know more about this dataset\n",
        " # print(dataset.keys())  # if you want to know what else is there in this dataset\n",
        " dataset.target = dataset.target.astype(np.int) # so that we can classify\n",
        " print(dataset.data.shape)\n",
        " print(dataset.target.shape)"
      ],
      "execution_count": null,
      "outputs": [
        {
          "output_type": "stream",
          "name": "stdout",
          "text": [
            "(20640, 8)\n",
            "(20640,)\n"
          ]
        },
        {
          "output_type": "stream",
          "name": "stderr",
          "text": [
            "<ipython-input-2-60ae2e9a125e>:4: DeprecationWarning: `np.int` is a deprecated alias for the builtin `int`. To silence this warning, use `int` by itself. Doing this will not modify any behavior and is safe. When replacing `np.int`, you may wish to use e.g. `np.int64` or `np.int32` to specify the precision. If you wish to review your current use, check the release note link for additional information.\n",
            "Deprecated in NumPy 1.20; for more details and guidance: https://numpy.org/devdocs/release/1.20.0-notes.html#deprecations\n",
            "  dataset.target = dataset.target.astype(np.int) # so that we can classify\n"
          ]
        }
      ]
    },
    {
      "cell_type": "markdown",
      "metadata": {
        "id": "iNx4174W5xRg"
      },
      "source": [
        "Here is a function for calculating the 1-nearest neighbours"
      ]
    },
    {
      "cell_type": "code",
      "metadata": {
        "id": "07zpydQj1hIQ"
      },
      "source": [
        "def NN1(traindata, trainlabel, query):\n",
        "  diff  = traindata - query  # find the difference between features. Numpy automatically takes care of the size here\n",
        "  sq = diff*diff # square the differences\n",
        "  dist = sq.sum(1) # add up the squares\n",
        "  #It gives the EUCLIDEAN DISTANCE upto here\n",
        "  label = trainlabel[np.argmin(dist)] # our predicted label is the label of the training data which has the least distance from the query\n",
        "  #The numpy. argmin() method returns indices of the min element of the array in a particular axis. Syntax : numpy.argmin(array, axis = None, out = None)\n",
        "  return label\n",
        "\n",
        "def NN(traindata, trainlabel, testdata):\n",
        "  # we will run nearest neighbour for each sample in the test data\n",
        "  # and collect the predicted classes in an array using list comprehension\n",
        "  predlabel = np.array([NN1(traindata, trainlabel, i) for i in testdata])\n",
        "  return predlabel"
      ],
      "execution_count": null,
      "outputs": []
    },
    {
      "cell_type": "markdown",
      "metadata": {
        "id": "03JktkfIGaje"
      },
      "source": [
        "We will also define a 'random classifier', which randomly allots labels to each sample"
      ]
    },
    {
      "cell_type": "code",
      "metadata": {
        "id": "fogWAtjyGhAH"
      },
      "source": [
        "def RandomClassifier(traindata, trainlabel, testdata):\n",
        "  # in reality, we don't need these arguments\n",
        "\n",
        "  classes = np.unique(trainlabel)\n",
        "  rints = rng.integers(low=0, high=len(classes), size=len(testdata))\n",
        "  predlabel = classes[rints]\n",
        "  return predlabel"
      ],
      "execution_count": null,
      "outputs": []
    },
    {
      "cell_type": "markdown",
      "metadata": {
        "id": "1Hjf1KHs7fU5"
      },
      "source": [
        "Let us define a metric 'Accuracy' to see how good our learning algorithm is. Accuracy is the ratio of the number of correctly classified samples to the total number of samples. The higher the accuracy, the better the algorithm."
      ]
    },
    {
      "cell_type": "code",
      "metadata": {
        "id": "ouuCqWU07bz-"
      },
      "source": [
        "def Accuracy(gtlabel, predlabel):\n",
        "  assert len(gtlabel)==len(predlabel), \"Length of the groundtruth labels and predicted labels should be the same\"\n",
        "  correct = (gtlabel==predlabel).sum() # count the number of times the groundtruth label is equal to the predicted label.\n",
        "  return correct/len(gtlabel)"
      ],
      "execution_count": null,
      "outputs": []
    },
    {
      "cell_type": "markdown",
      "metadata": {
        "id": "4vJFwBFa9Klw"
      },
      "source": [
        "Let us make a function to split the dataset with the desired probability."
      ]
    },
    {
      "cell_type": "code",
      "metadata": {
        "id": "Ko0VzpSM2Tdi"
      },
      "source": [
        "def split(data, label, percent):\n",
        "  # generate a random number for each sample\n",
        "  rnd = rng.random(len(label))\n",
        "  split1 = rnd<percent\n",
        "  split2 = rnd>=percent\n",
        "  split1data = data[split1,:]\n",
        "  split1label = label[split1]\n",
        "  split2data = data[split2,:]\n",
        "  split2label = label[split2]\n",
        "  return split1data, split1label, split2data, split2label"
      ],
      "execution_count": null,
      "outputs": []
    },
    {
      "cell_type": "markdown",
      "metadata": {
        "id": "AcK3LEAJ_LGC"
      },
      "source": [
        "We will reserve 20% of our dataset as the test set. We will not change this portion throughout our experiments"
      ]
    },
    {
      "cell_type": "code",
      "metadata": {
        "id": "bBZkHBLJ1iU-",
        "colab": {
          "base_uri": "https://localhost:8080/"
        },
        "outputId": "4434dafb-ff85-4de0-fe88-dda99a1b7501"
      },
      "source": [
        "testdata, testlabel, alltraindata, alltrainlabel = split(dataset.data, dataset.target, 20/100)\n",
        "print('Number of test samples = ', len(testlabel))\n",
        "print('Number of other samples = ', len(alltrainlabel))\n",
        "print('Percent of test data = ', len(testlabel)*100/len(dataset.target),'%')"
      ],
      "execution_count": null,
      "outputs": [
        {
          "output_type": "stream",
          "name": "stdout",
          "text": [
            "Number of test samples =  4144\n",
            "Number of other samples =  16496\n",
            "Percent of test data =  20.07751937984496 %\n"
          ]
        }
      ]
    },
    {
      "cell_type": "markdown",
      "metadata": {
        "id": "a6Ss0Z6IAGNV"
      },
      "source": [
        "## Experiments with splits\n",
        "\n",
        "Let us reserve some of our train data as a validation set"
      ]
    },
    {
      "cell_type": "code",
      "metadata": {
        "id": "WFew2iry_7W7"
      },
      "source": [
        "traindata, trainlabel, valdata, vallabel = split(alltraindata, alltrainlabel, 75/100)"
      ],
      "execution_count": null,
      "outputs": []
    },
    {
      "cell_type": "code",
      "source": [
        "traindata.shape, trainlabel.shape, valdata.shape, vallabel.shape"
      ],
      "metadata": {
        "colab": {
          "base_uri": "https://localhost:8080/"
        },
        "id": "DPyIjKyb24OJ",
        "outputId": "8628a840-f355-42fa-c64e-ec3ced43db83"
      },
      "execution_count": null,
      "outputs": [
        {
          "output_type": "execute_result",
          "data": {
            "text/plain": [
              "((12368, 8), (12368,), (4128, 8), (4128,))"
            ]
          },
          "metadata": {},
          "execution_count": 9
        }
      ]
    },
    {
      "cell_type": "markdown",
      "metadata": {
        "id": "60hiu4clFN1i"
      },
      "source": [
        "What is the accuracy of our classifiers on the train dataset?"
      ]
    },
    {
      "cell_type": "code",
      "metadata": {
        "id": "DBlZDTHUFTZx",
        "colab": {
          "base_uri": "https://localhost:8080/"
        },
        "outputId": "7aca1be9-0835-4ee7-b2e2-b23d27a76c70"
      },
      "source": [
        "trainpred = NN(traindata, trainlabel, traindata)\n",
        "trainAccuracy = Accuracy(trainlabel, trainpred)\n",
        "print(\"Train accuracy using nearest neighbour is \", trainAccuracy)\n",
        "#Here the training accuracy is always 1 as the train data which consists its neighbors also considers itself as on of the neighbour as it is also present in the train data\n",
        "#Eg : let us cosider the points 1,2,3,4,5 and if we take 5 as the nearest neighbor the at datapoint 5 it is 5-5=0 is the error so the accuracy is 100%\n",
        "#This is the Flaw\n",
        "\n",
        "trainpred = RandomClassifier(traindata, trainlabel, traindata)\n",
        "trainAccuracy = Accuracy(trainlabel, trainpred)\n",
        "print(\"Train accuracy using random classifier is \", trainAccuracy) # for large sample classifiers the accuracy is \"(1/n)\""
      ],
      "execution_count": null,
      "outputs": [
        {
          "output_type": "stream",
          "name": "stdout",
          "text": [
            "Train accuracy using nearest neighbour is  1.0\n",
            "Train accuracy using random classifier is  0.164375808538163\n"
          ]
        }
      ]
    },
    {
      "cell_type": "markdown",
      "metadata": {
        "id": "7h08-9gJDtSy"
      },
      "source": [
        "For nearest neighbour, the train accuracy is always 1. The accuracy of the random classifier is close to 1/(number of classes) which is 0.1666 in our case.\n",
        "\n",
        "Let us predict the labels for our validation set and get the accuracy"
      ]
    },
    {
      "cell_type": "code",
      "metadata": {
        "id": "4h7bXoW_2H3v",
        "colab": {
          "base_uri": "https://localhost:8080/"
        },
        "outputId": "3d6540f7-5b33-462c-a4a0-b617a04fffef"
      },
      "source": [
        "valpred = NN(traindata, trainlabel, valdata)\n",
        "valAccuracy = Accuracy(vallabel, valpred)\n",
        "print(\"Validation accuracy using nearest neighbour is \", valAccuracy)\n",
        "\n",
        "valpred = RandomClassifier(traindata, trainlabel, valdata)\n",
        "valAccuracy = Accuracy(vallabel, valpred)\n",
        "print(\"Validation accuracy using random classifier is \", valAccuracy)"
      ],
      "execution_count": null,
      "outputs": [
        {
          "output_type": "stream",
          "name": "stdout",
          "text": [
            "Validation accuracy using nearest neighbour is  0.34108527131782945\n",
            "Validation accuracy using random classifier is  0.1688468992248062\n"
          ]
        }
      ]
    },
    {
      "cell_type": "markdown",
      "metadata": {
        "id": "py9bLguFEjfg"
      },
      "source": [
        "Validation accuracy of nearest neighbour is considerably less than its train accuracy while the validation accuracy of random classifier is the same. However, the validation accuracy of nearest neighbour is twice that of the random classifier.\n",
        "\n",
        "Now let us try another random split and check the validation accuracy"
      ]
    },
    {
      "cell_type": "code",
      "metadata": {
        "id": "ujm3cyYzEntE",
        "colab": {
          "base_uri": "https://localhost:8080/"
        },
        "outputId": "1ae54b78-0487-4cab-9cd6-2ba45f0f0760"
      },
      "source": [
        "traindata, trainlabel, valdata, vallabel = split(alltraindata, alltrainlabel, 75/100)\n",
        "valpred = NN(traindata, trainlabel, valdata)\n",
        "valAccuracy = Accuracy(vallabel, valpred)\n",
        "print(\"Validation accuracy of nearest neighbour is \", valAccuracy)"
      ],
      "execution_count": null,
      "outputs": [
        {
          "output_type": "stream",
          "name": "stdout",
          "text": [
            "Validation accuracy of nearest neighbour is  0.34048257372654156\n"
          ]
        }
      ]
    },
    {
      "cell_type": "markdown",
      "metadata": {
        "id": "oSOx7U83EKie"
      },
      "source": [
        "You can run the above cell multiple times to try with different random splits.\n",
        "We notice that the accuracy is different for each run, but close together.\n",
        "\n",
        "Now let us compare it with the accuracy we get on the test dataset."
      ]
    },
    {
      "cell_type": "code",
      "metadata": {
        "id": "PNEZ5ToYBEDW",
        "colab": {
          "base_uri": "https://localhost:8080/"
        },
        "outputId": "70270868-6cc2-4c5c-f1e4-8424c4f86721"
      },
      "source": [
        "testpred = NN(alltraindata, alltrainlabel, testdata)\n",
        "testAccuracy = Accuracy(testlabel, testpred)\n",
        "print('Test accuracy is ', testAccuracy)"
      ],
      "execution_count": null,
      "outputs": [
        {
          "output_type": "stream",
          "name": "stdout",
          "text": [
            "Test accuracy is  0.34917953667953666\n"
          ]
        }
      ]
    },
    {
      "cell_type": "markdown",
      "metadata": {
        "id": "w3dGD531K3gH"
      },
      "source": [
        "### Try it out for yourself and answer:\n",
        "1. How is the accuracy of the validation set affected if we increase the percentage of validation set? What happens when we reduce it?\n",
        "2. How does the size of the train and validation set affect how well we can predict the accuracy on the test set using the validation set?\n",
        "3. What do you think is a good percentage to reserve for the validation set so that thest two factors are balanced?\n",
        "\n",
        "Answer for both nearest neighbour and random classifier. You can note down the values for your experiments and plot a graph using  <a href=https://matplotlib.org/stable/gallery/lines_bars_and_markers/step_demo.html#sphx-glr-gallery-lines-bars-and-markers-step-demo-py>plt.plot<href>. Check also for extreme values for splits, like 99.9% or 0.1%"
      ]
    },
    {
      "cell_type": "markdown",
      "source": [
        "#SOLUTIONS"
      ],
      "metadata": {
        "id": "aKsLjena27Wv"
      }
    },
    {
      "cell_type": "markdown",
      "source": [
        "1) The accuracy of the validation set when we **\"increase\"** the percentage of validation set.. that is we decrease the training size which automatically increases the validation data size.."
      ],
      "metadata": {
        "id": "Vf3TnUoy2-ul"
      }
    },
    {
      "cell_type": "code",
      "source": [
        "train_data, train_label, val_data, val_label = split(alltraindata, alltrainlabel, 55/100)\n",
        "train_data.shape, train_label.shape, val_data.shape, val_label.shape"
      ],
      "metadata": {
        "colab": {
          "base_uri": "https://localhost:8080/"
        },
        "id": "ZjrCmJJj2_fN",
        "outputId": "92b6c4b7-8d76-4eee-8b7e-37da5769f07d"
      },
      "execution_count": null,
      "outputs": [
        {
          "output_type": "execute_result",
          "data": {
            "text/plain": [
              "((9005, 8), (9005,), (7491, 8), (7491,))"
            ]
          },
          "metadata": {},
          "execution_count": 14
        }
      ]
    },
    {
      "cell_type": "code",
      "source": [
        "train_pred_N = NN(train_data, train_label, train_data)\n",
        "train_Accuracy_N = Accuracy(train_label, train_pred_N)\n",
        "print(\"Train accuracy using Nearest Neighbour is \", train_Accuracy_N)\n",
        "\n",
        "train_pred_R = RandomClassifier(train_data, train_label, train_data)\n",
        "train_Accuracy_R = Accuracy(train_label, train_pred_R)\n",
        "print(\"Train accuracy using Random Classifier is \", train_Accuracy_R)"
      ],
      "metadata": {
        "colab": {
          "base_uri": "https://localhost:8080/"
        },
        "id": "rgUH6Dj-3Bqf",
        "outputId": "32db235a-9cd2-42ce-fe9b-670bbd8df689"
      },
      "execution_count": null,
      "outputs": [
        {
          "output_type": "stream",
          "name": "stdout",
          "text": [
            "Train accuracy using Nearest Neighbour is  1.0\n",
            "Train accuracy using Random Classifier is  0.17368128817323708\n"
          ]
        }
      ]
    },
    {
      "cell_type": "code",
      "source": [
        "plt.plot(train_Accuracy_N, train_Accuracy_R, color='red', marker='+', alpha=0.9)\n",
        "plt.xlabel(\"Nearest Neighbors Accuracy\")\n",
        "plt.ylabel(\"Random Classifier Accuracy\")\n",
        "plt.title(\"Training Data Accuracy\")\n",
        "plt.show()"
      ],
      "metadata": {
        "colab": {
          "base_uri": "https://localhost:8080/",
          "height": 472
        },
        "id": "Yd71A5id6AnZ",
        "outputId": "848ee8a3-76c2-458a-cc97-389a89b5ef7d"
      },
      "execution_count": null,
      "outputs": [
        {
          "output_type": "display_data",
          "data": {
            "text/plain": [
              "<Figure size 640x480 with 1 Axes>"
            ],
            "image/png": "[encoded data removed]"
          },
          "metadata": {}
        }
      ]
    },
    {
      "cell_type": "code",
      "source": [
        "val_pred = NN(train_data, train_label, val_data)\n",
        "val_Accuracy_N = Accuracy(val_label, val_pred)\n",
        "print(\"Validation accuracy using nearest neighbour is \", val_Accuracy_N)\n",
        "\n",
        "val_pred = RandomClassifier(train_data, train_label, val_data)\n",
        "val_Accuracy_R = Accuracy(val_label, val_pred)\n",
        "print(\"Validation accuracy using random classifier is \", val_Accuracy_R)"
      ],
      "metadata": {
        "colab": {
          "base_uri": "https://localhost:8080/"
        },
        "id": "nJ60rFLa5Q_j",
        "outputId": "2d3ce762-763f-4899-e5b7-aa6360dd57ea"
      },
      "execution_count": null,
      "outputs": [
        {
          "output_type": "stream",
          "name": "stdout",
          "text": [
            "Validation accuracy using nearest neighbour is  0.328794553464157\n",
            "Validation accuracy using random classifier is  0.16513149112268055\n"
          ]
        }
      ]
    },
    {
      "cell_type": "markdown",
      "source": [
        "Hence, we can see that if we increase the validation dataset, there is no much difference in the accuracy using Nearest Neighbors classifier and the Random Classifier but a very slight difference.."
      ],
      "metadata": {
        "id": "VeEilPpQ3FVL"
      }
    },
    {
      "cell_type": "code",
      "source": [
        "plt.plot(val_Accuracy_N , val_Accuracy_R, color='blue', marker='*', alpha=0.9)\n",
        "plt.xlabel(\"Nearest Neighbors Accuracy\")\n",
        "plt.ylabel(\"Random Classifier Accuracy\")\n",
        "plt.title(\"Validation Data Accuracy\")\n",
        "plt.show()"
      ],
      "metadata": {
        "colab": {
          "base_uri": "https://localhost:8080/",
          "height": 472
        },
        "id": "vkop1mhQ8CIQ",
        "outputId": "f13af1a2-7303-4178-fed7-758d8ed6b471"
      },
      "execution_count": null,
      "outputs": [
        {
          "output_type": "display_data",
          "data": {
            "text/plain": [
              "<Figure size 640x480 with 1 Axes>"
            ],
            "image/png": "[encoded data removed]"
          },
          "metadata": {}
        }
      ]
    },
    {
      "cell_type": "markdown",
      "source": [
        "The accuracy of the validation set when we **\"decrease\"** the percentage of validation set.. that is we decrease the training size which automatically increases the validation data size.."
      ],
      "metadata": {
        "id": "GcML3RaY31s8"
      }
    },
    {
      "cell_type": "code",
      "source": [
        "train_data1, train_label1, val_data1, val_label1 = split(alltraindata, alltrainlabel, 90/100)\n",
        "print(train_data1.shape, train_label1.shape, val_data1.shape, val_label1.shape)\n",
        "\n",
        "train_pred1 = NN(train_data1, train_label1, train_data1)\n",
        "train_Accuracy_N1 = Accuracy(train_label1, train_pred1)\n",
        "print(\"Train accuracy using Nearest Neighbour is \", train_Accuracy_N1)\n",
        "\n",
        "train_pred1 = RandomClassifier(train_data1, train_label1, train_data1)\n",
        "train_Accuracy_R1 = Accuracy(train_label1, train_pred1)\n",
        "print(\"Train accuracy using Random Classifier is \", train_Accuracy_R1)"
      ],
      "metadata": {
        "colab": {
          "base_uri": "https://localhost:8080/"
        },
        "id": "4kbNUwII4KtT",
        "outputId": "84c0f8d7-ee92-4d86-b8db-2474470e0c00"
      },
      "execution_count": null,
      "outputs": [
        {
          "output_type": "stream",
          "name": "stdout",
          "text": [
            "(14883, 8) (14883,) (1613, 8) (1613,)\n",
            "Train accuracy using Nearest Neighbour is  1.0\n",
            "Train accuracy using Random Classifier is  0.16152657394342537\n"
          ]
        }
      ]
    },
    {
      "cell_type": "markdown",
      "source": [
        "Hence there is no much difference in the accuracy even if we decrease the Validation data.."
      ],
      "metadata": {
        "id": "Hn6bO5W641SH"
      }
    },
    {
      "cell_type": "code",
      "source": [
        "plt.plot(train_Accuracy_N1, train_Accuracy_R1, color='red', marker='+', alpha=0.9)\n",
        "plt.xlabel(\"Nearest Neighbors Accuracy\")\n",
        "plt.ylabel(\"Random Classifier Accuracy\")\n",
        "plt.title(\"Training Data Accuracy\")\n",
        "plt.show()"
      ],
      "metadata": {
        "colab": {
          "base_uri": "https://localhost:8080/",
          "height": 472
        },
        "id": "voL6MgFJb3b5",
        "outputId": "31b45098-a63d-4f0d-96b0-09c13c09b25c"
      },
      "execution_count": null,
      "outputs": [
        {
          "output_type": "display_data",
          "data": {
            "text/plain": [
              "<Figure size 640x480 with 1 Axes>"
            ],
            "image/png": "[encoded data removed]"
          },
          "metadata": {}
        }
      ]
    },
    {
      "cell_type": "code",
      "source": [
        "val_pred1 = NN(train_data1, train_label1, val_data1)\n",
        "val_Accuracy_N1 = Accuracy(val_label1, val_pred1)\n",
        "print(\"Validation accuracy using nearest neighbour is \", val_Accuracy_N1)\n",
        "\n",
        "val_pred1 = RandomClassifier(train_data1, train_label1, val_data1)\n",
        "val_Accuracy_R1 = Accuracy(val_label1, val_pred1)\n",
        "print(\"Validation accuracy using random classifier is \", val_Accuracy_R1)"
      ],
      "metadata": {
        "colab": {
          "base_uri": "https://localhost:8080/"
        },
        "id": "H1DPg_rYb6AK",
        "outputId": "8d92e33f-3e7b-4035-9472-6ee4752c6a42"
      },
      "execution_count": null,
      "outputs": [
        {
          "output_type": "stream",
          "name": "stdout",
          "text": [
            "Validation accuracy using nearest neighbour is  0.3707377557346559\n",
            "Validation accuracy using random classifier is  0.1680099194048357\n"
          ]
        }
      ]
    },
    {
      "cell_type": "markdown",
      "source": [
        "Hence, we can see that if we increase the validation dataset, there is no much difference in the accuracy using Nearest Neighbors classifier and the Random Classifier but a very slight difference.."
      ],
      "metadata": {
        "id": "9UdaUKuvb3BO"
      }
    },
    {
      "cell_type": "code",
      "source": [
        "plt.plot(val_Accuracy_N1 , val_Accuracy_R1, color='blue', marker='*', alpha=0.9)\n",
        "plt.xlabel(\"Nearest Neighbors Accuracy\")\n",
        "plt.ylabel(\"Random Classifier Accuracy\")\n",
        "plt.title(\"Validation Data Accuracy\")\n",
        "plt.show()"
      ],
      "metadata": {
        "colab": {
          "base_uri": "https://localhost:8080/",
          "height": 472
        },
        "id": "2wEi1XzMb-c3",
        "outputId": "95c7f15b-2160-4cf9-e4ca-daede7316d4d"
      },
      "execution_count": null,
      "outputs": [
        {
          "output_type": "display_data",
          "data": {
            "text/plain": [
              "<Figure size 640x480 with 1 Axes>"
            ],
            "image/png": "[encoded data removed]"
          },
          "metadata": {}
        }
      ]
    },
    {
      "cell_type": "markdown",
      "source": [
        "2) When we consider 75% as the training data and the remaining as the Validation data then we have 12368 training samples and 4128 Validation samples.\n",
        "When we increase the Validation samples then we have 9005 training samples and 7491 Validation samples. There is not much variation in the accuracy as illustrated above. When we decrease the Validation samples then we have 14883 training samples and 1613 Validation samples. There is not much variation in the accuracy as illustrated above."
      ],
      "metadata": {
        "id": "ItPIVu-dfFmI"
      }
    },
    {
      "cell_type": "markdown",
      "source": [
        "Now the accuracy on the  test set.."
      ],
      "metadata": {
        "id": "tP_f7cxygcPD"
      }
    },
    {
      "cell_type": "code",
      "source": [
        "testpred = NN(alltraindata, alltrainlabel, testdata)\n",
        "testAccuracy = Accuracy(testlabel, testpred)\n",
        "print('Test accuracy is ', testAccuracy)\n",
        "\n",
        "testpred = RandomClassifier(alltraindata, alltrainlabel, testdata)\n",
        "testAccuracy = Accuracy(testlabel, testpred)\n",
        "print('Test accuracy is ', testAccuracy)"
      ],
      "metadata": {
        "colab": {
          "base_uri": "https://localhost:8080/"
        },
        "id": "fytrkpxigbcQ",
        "outputId": "4a687143-f12f-47ad-a579-2cbba9389acb"
      },
      "execution_count": null,
      "outputs": [
        {
          "output_type": "stream",
          "name": "stdout",
          "text": [
            "Test accuracy is  0.34917953667953666\n",
            "Test accuracy is  0.16336872586872586\n"
          ]
        }
      ]
    },
    {
      "cell_type": "markdown",
      "source": [
        "3) The choice of the percentage to reserve for the validation set depends on several factors, including the size of your dataset, the complexity of your problem, and the specific algorithms you're using. Balancing the size of the validation set with the training set is important to ensure that you have enough data for training while also having a reliable estimate of your model's performance. There isn't a one-size-fits-all answer, but here are some general guidelines:\n",
        "\n",
        "1) Hold-Out Validation Ratio: A common practice is to split your dataset into three parts: a training set, a validation set, and a test set. A typical split might be 60-20-20 or 70-15-15, meaning 60% or 70% of the data is for training, and 20% or 15% each is for validation and testing. This gives a balance between having sufficient data for training and reliable estimates of performance.\n",
        "\n",
        "2) Dataset Size: For very large datasets, you can afford to allocate a smaller percentage for the validation set, as you have a lot of data for training. Conversely, for small datasets, you may need to allocate a larger percentage to validation to ensure robust evaluation.\n",
        "\n",
        "3) Complexity of the Problem: If your problem is relatively simple, you might need a smaller validation set. However, for complex problems with many features or classes, you might need a larger validation set.\n",
        "\n",
        "4) Algorithm Choice: Some algorithms may require more or less data for validation. For example, deep learning models often require larger validation sets due to their complexity, while simpler models like linear regression may need less.\n",
        "\n",
        "5) Cross-Validation: In some cases, you might use techniques like k-fold cross-validation to make the most of your data. This involves dividing the data into k subsets and using each one as a validation set while training on the other k-1 subsets. This can help you get a more robust estimate of your model's performance, especially when data is limited.\n",
        "\n",
        "6) Domain Knowledge: Your understanding of the problem domain can also guide your decision. If you have domain knowledge suggesting that a particular split ratio is more appropriate, it's worth considering.\n",
        "\n",
        "So, for our model above according to the accuracy we have a slight increase in the accuracy when we decrease the Validation set ratio having a larger ratio of the traing dataset.."
      ],
      "metadata": {
        "id": "pUrKKBBThg-J"
      }
    },
    {
      "cell_type": "markdown",
      "source": [
        "If we take extreme splits like 99.9% for training and 0.1% for validation.."
      ],
      "metadata": {
        "id": "GnAANINXiW4X"
      }
    },
    {
      "cell_type": "code",
      "source": [
        "train_data, train_label, val_data, val_label = split(alltraindata, alltrainlabel, 99.9/100)\n",
        "print(train_data.shape, train_label.shape, val_data.shape, val_label.shape)\n",
        "\n",
        "train_pred_N = NN(train_data, train_label, train_data)\n",
        "train_Accuracy_N = Accuracy(train_label, train_pred_N)\n",
        "print(\"Train accuracy using Nearest Neighbour is \", train_Accuracy_N)\n",
        "\n",
        "train_pred_R = RandomClassifier(train_data, train_label, train_data)\n",
        "train_Accuracy_R = Accuracy(train_label, train_pred_R)\n",
        "print(\"Train accuracy using Random Classifier is \", train_Accuracy_R)\n",
        "\n",
        "val_pred = NN(train_data, train_label, val_data)\n",
        "val_Accuracy_N = Accuracy(val_label, val_pred)\n",
        "print(\"Validation accuracy using nearest neighbour is \", val_Accuracy_N)\n",
        "\n",
        "val_pred = RandomClassifier(train_data, train_label, val_data)\n",
        "val_Accuracy_R = Accuracy(val_label, val_pred)\n",
        "print(\"Validation accuracy using random classifier is \", val_Accuracy_R)"
      ],
      "metadata": {
        "colab": {
          "base_uri": "https://localhost:8080/"
        },
        "id": "xKzA8v_WimxA",
        "outputId": "b65249c4-0c6c-48de-955e-32ec2cb8c09a"
      },
      "execution_count": null,
      "outputs": [
        {
          "output_type": "stream",
          "name": "stdout",
          "text": [
            "(16473, 8) (16473,) (23, 8) (23,)\n",
            "Train accuracy using Nearest Neighbour is  1.0\n",
            "Train accuracy using Random Classifier is  0.1660292600012141\n",
            "Validation accuracy using nearest neighbour is  0.4782608695652174\n",
            "Validation accuracy using random classifier is  0.2608695652173913\n"
          ]
        }
      ]
    },
    {
      "cell_type": "markdown",
      "source": [
        "Hence we can see that the validation accuracy has increased as we have only 0.1% as the Validation set..So, it has classified almost 50% of the labels accurately which is not a good fit."
      ],
      "metadata": {
        "id": "W10mZ6Fdi7XI"
      }
    },
    {
      "cell_type": "markdown",
      "metadata": {
        "id": "PnYvkAZLQY7h"
      },
      "source": [
        "## Multiple Splits\n",
        "\n",
        "One way to get more accurate estimates for the test accuracy is by using <b>crossvalidation</b>. Here, we will try a simple version, where we do multiple train/val splits and take the average of validation accuracies as the test accuracy estimation. Here is a function for doing this. Note that this function will take a long time to execute."
      ]
    },
    {
      "cell_type": "code",
      "metadata": {
        "id": "E4nGCUQXBTzo"
      },
      "source": [
        "# you can use this function for random classifier also\n",
        "def AverageAccuracy(alldata, alllabel, splitpercent, iterations, classifier=NN):\n",
        "  accuracy = 0\n",
        "  for ii in range(iterations):\n",
        "    traindata, trainlabel, valdata, vallabel = split(alldata, alllabel, splitpercent)\n",
        "    valpred = classifier(traindata, trainlabel, valdata)\n",
        "    accuracy += Accuracy(vallabel, valpred)\n",
        "  return accuracy/iterations # average of all accuracies"
      ],
      "execution_count": null,
      "outputs": []
    },
    {
      "cell_type": "code",
      "metadata": {
        "id": "H3qtNar7Bbik",
        "colab": {
          "base_uri": "https://localhost:8080/"
        },
        "outputId": "fadd895c-7b33-4310-8c4b-0a96c7582b04"
      },
      "source": [
        "print('Average validation accuracy is ', AverageAccuracy(alltraindata, alltrainlabel, 75/100, 10, classifier=NN))\n",
        "testpred = NN(alltraindata, alltrainlabel, testdata)\n",
        "print('test accuracy is ',Accuracy(testlabel, testpred) )"
      ],
      "execution_count": null,
      "outputs": [
        {
          "output_type": "stream",
          "name": "stdout",
          "text": [
            "Average validation accuracy is  0.3412798286075546\n",
            "test accuracy is  0.34917953667953666\n"
          ]
        }
      ]
    },
    {
      "cell_type": "markdown",
      "metadata": {
        "id": "33GIn4x5VH-d"
      },
      "source": [
        "This is a very simple way of doing cross-validation. There are many well-known algorithms for cross-validation, like k-fold cross-validation, leave-one-out etc. This will be covered in detail in a later module. For more information about cross-validation, check <a href=https://en.wikipedia.org/wiki/Cross-validation_(statistics)>Cross-validatioin (Wikipedia)</a>\n",
        "\n",
        "### Questions\n",
        "1. Does averaging the validation accuracy across multiple splits give more consistent results?\n",
        "2. Does it give more accurate estimate of test accuracy?\n",
        "3. What is the effect of the number of iterations on the estimate? Do we get a better estimate with higher iterations?\n",
        "4. Consider the results you got for the previous questions. Can we deal with a very small train dataset or validation dataset by increasing the iterations?\n"
      ]
    },
    {
      "cell_type": "markdown",
      "source": [
        "#1)\n",
        "Yes, averaging the validation accuracy across multiple splits, such as using k-fold cross-validation, can indeed provide more consistent and reliable results compared to a single validation split. This technique is especially beneficial when you have a limited amount of data.\n",
        "\n",
        "Here's why averaging validation accuracy across multiple splits can be advantageous:\n",
        "\n",
        "* Reduced Variance: A single validation split may be affected by randomness in the data, leading to variability in the results. By performing multiple splits and averaging the results, we reduce the impact of this randomness and obtain a more stable estimate of our model's performance.\n",
        "\n",
        "* Better Generalization: Cross-validation helps our model generalize better to unseen data. It assesses how well our model performs across different subsets of the data, which can lead to a more realistic estimate of its generalization performance.\n",
        "\n",
        "* Effective Hyperparameter Tuning: When tuning hyperparameters (e.g., learning rate, regularization strength), cross-validation allows you to evaluate different parameter settings on multiple validation sets. This helps you choose the settings that perform well across different data partitions, reducing the risk of overfitting to a single validation split.\n",
        "\n",
        "* More Robust Performance Metrics: Averaging the performance metrics (e.g., accuracy, F1-score) across multiple cross-validation folds provides a more robust and representative measure of your model's performance compared to a single validation split.\n",
        "\n",
        "* Higher Confidence: Averaging results across multiple splits gives us greater confidence in the reported performance metrics. We can estimate the mean and standard deviation of the metric, which provides a range of likely values for our model's performance.\n",
        "\n",
        "Common choices for the number of folds in k-fold cross-validation include 5-fold and 10-fold, but you can choose the value of k based on your dataset size and computational resources. The larger the value of k, the more stable and reliable our cross-validation results are likely to be.\n",
        "\n",
        "Hence, using cross-validation and averaging validation accuracy across multiple splits is a good practice, especially when dealing with limited data or when we want to obtain a more robust assessment of our machine learning model's performance."
      ],
      "metadata": {
        "id": "_iBouJEJkUDR"
      }
    },
    {
      "cell_type": "markdown",
      "source": [
        "#2)\n",
        "Using cross-validation and averaging validation accuracy across multiple splits provides a more accurate estimate of a model's performance on unseen data compared to a single validation split. However, it's important to clarify that this estimate is not the same as the actual test accuracy you would obtain on a completely independent test dataset. Instead, it provides a more reliable and realistic approximation of how your model is likely to perform on unseen data.\n",
        "\n",
        "Here's why cross-validation provides a more accurate estimate:\n",
        "\n",
        "* Better Generalization Assessment: Cross-validation assesses how well our model generalizes to different subsets of our data. By evaluating the model on multiple validation folds, it provides a more comprehensive view of the model's performance on a variety of data configurations. This helps in obtaining a more accurate estimate of how the model will perform on unseen data.\n",
        "\n",
        "* Reduced Overfitting Risk: With a single validation split, there is a risk that our model may have overfit to that particular split, leading to an overly optimistic estimate of performance. Cross-validation mitigates this risk by evaluating the model on multiple validation sets, making it less likely that the model's performance is inflated due to random fluctuations.\n",
        "\n",
        "* Effective Hyperparameter Tuning: When tuning hyperparameters using cross-validation, we are likely to select parameter values that perform consistently well across different data partitions. This leads to a model that is more likely to have good generalization performance.\n",
        "\n",
        "* Robustness to Data Variability: Real-world datasets can have variability, noise, and outliers. Cross-validation helps in assessing how well our model handles this variability, resulting in a more accurate estimate of its true performance.\n",
        "\n",
        "While cross-validation provides a more accurate estimate of a model's performance compared to a single validation split, it's essential to keep in mind that the actual test accuracy on a completely independent test dataset may still vary. The test dataset should ideally be a representative sample of the population our model will encounter in practice. Nevertheless, cross-validation remains a valuable tool for model assessment, hyperparameter tuning, and gaining confidence in our model's generalization capabilities."
      ],
      "metadata": {
        "id": "tGQLu4gKkyOi"
      }
    },
    {
      "cell_type": "markdown",
      "source": [
        "#3)\n",
        "The number of iterations, often referred to as the number of epochs in the context of training machine learning models, can have a significant effect on the estimate of your model's performance. However, the relationship between the number of iterations and the estimate is not always straightforward, and there are trade-offs to consider.\n",
        "\n",
        "Here's how the number of iterations can affect the estimate of our model's performance:\n",
        "\n",
        "* Underfitting and Convergence: When we train a model for too few iterations, it may not have enough time to converge to a good solution. In this case, our model may underfit the data, resulting in a poor estimate of performance. Increasing the number of iterations can help the model converge to a better solution, reducing underfitting.\n",
        "\n",
        "* Overfitting: On the other hand, if we train a model for too many iterations, it may start to overfit the training data. Overfitting occurs when the model learns to fit the noise and idiosyncrasies in the training data rather than capturing the underlying patterns. In this scenario, the model's performance on the training data may improve (lower training error), but its performance on unseen data (e.g., validation or test data) may worsen. This can lead to an optimistic estimate of performance if we use the training data for evaluation.\n",
        "\n",
        "* Early Stopping: To strike a balance between underfitting and overfitting, it's common to use techniques like early stopping. Early stopping involves monitoring the model's performance on a validation set during training. Training is halted when the validation performance starts to degrade, indicating that the model is overfitting. This helps us find a suitable number of iterations that prevent overfitting while allowing the model to converge.\n",
        "\n",
        "* Hyperparameter Tuning: The number of iterations can be considered a hyperparameter, and its optimal value may depend on the specific problem and dataset. It's common practice to perform hyperparameter tuning, including the number of iterations, to find the best configuration that results in the highest model performance.\n",
        "\n",
        "Hence, the effect of the number of iterations on the estimate of our model's performance depends on the balance between underfitting and overfitting. Increasing the number of iterations can improve performance up to a point, but beyond that point, it may lead to overfitting. Therefore, it's essential to use techniques like early stopping and hyperparameter tuning to find the optimal number of iterations for your specific model and dataset. A better estimate of performance is obtained when the model generalizes well to unseen data without overfitting to the training data."
      ],
      "metadata": {
        "id": "NzOwFwJslQta"
      }
    },
    {
      "cell_type": "markdown",
      "source": [
        "#4)\n",
        "Yes, we can increase the number of iterations and check.\n",
        "For suppose if we do it for 100 iterations.."
      ],
      "metadata": {
        "id": "2rN29UPsmRsp"
      }
    },
    {
      "cell_type": "code",
      "source": [
        "# you can use this function for random classifier also\n",
        "def AverageAccuracy(alldata, alllabel, splitpercent, iterations, classifier=NN):\n",
        "  accuracy = 0\n",
        "  for ii in range(iterations):\n",
        "    traindata, trainlabel, valdata, vallabel = split(alldata, alllabel, splitpercent)\n",
        "    valpred = classifier(traindata, trainlabel, valdata)\n",
        "    accuracy += Accuracy(vallabel, valpred)\n",
        "  return accuracy/iterations # average of all accuracies\n",
        "\n",
        "print('Average validation accuracy is ', AverageAccuracy(alltraindata, alltrainlabel, 75/100, 100, classifier=NN))\n",
        "testpred = NN(alltraindata, alltrainlabel, testdata)\n",
        "print('test accuracy is ',Accuracy(testlabel, testpred) )"
      ],
      "metadata": {
        "colab": {
          "base_uri": "https://localhost:8080/"
        },
        "id": "Sc87k__LmRaA",
        "outputId": "7aa1f964-8cec-42a5-fedf-753fd70155c2"
      },
      "execution_count": null,
      "outputs": [
        {
          "output_type": "stream",
          "name": "stdout",
          "text": [
            "Average validation accuracy is  0.3396869519534453\n",
            "test accuracy is  0.34917953667953666\n"
          ]
        }
      ]
    }
  ]
}