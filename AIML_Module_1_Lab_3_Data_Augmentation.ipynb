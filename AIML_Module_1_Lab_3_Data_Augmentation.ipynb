{
  "nbformat": 4,
  "nbformat_minor": 0,
  "metadata": {
    "colab": {
      "provenance": [],
      "include_colab_link": true
    },
    "kernelspec": {
      "name": "python3",
      "display_name": "Python 3"
    },
    "language_info": {
      "name": "python"
    }
  },
  "cells": [
    {
      "cell_type": "markdown",
      "metadata": {
        "id": "view-in-github",
        "colab_type": "text"
      },
      "source": [
        "<a href=\"https://colab.research.google.com/github/csnsnigdha18/IIIT-Hyderabad-AI-ML-Research-Work/blob/main/AIML_Module_1_Lab_3_Data_Augmentation.ipynb\" target=\"_parent\"><img src=\"https://colab.research.google.com/assets/colab-badge.svg\" alt=\"Open In Colab\"/></a>"
      ]
    },
    {
      "cell_type": "markdown",
      "metadata": {
        "id": "w3yfry25JgZK"
      },
      "source": [
        "# Data augmentation\n",
        "\n",
        " In this lab, we will see how augmentation of data samples help in improving the machine learning performance.\\\n",
        " Adds richness to the data"
      ]
    },
    {
      "cell_type": "code",
      "metadata": {
        "id": "xZU8_elooqP0"
      },
      "source": [
        "import numpy as np\n",
        "import matplotlib.pyplot as plt\n",
        "from keras.datasets import mnist\n",
        "# set randomseed\n",
        "rng = np.random.default_rng(seed=42)\n",
        "from sklearn.utils.extmath import cartesian\n",
        "from skimage.transform import rotate, AffineTransform, warp\n",
        "import math"
      ],
      "execution_count": 1,
      "outputs": []
    },
    {
      "cell_type": "markdown",
      "metadata": {
        "id": "T5pHYogSMHiE"
      },
      "source": [
        "Augmentation is useful when we have less training data available. Augmentation allows us to 'create' a larger dataset programatically.\n",
        "\n",
        "For this lab we will use a subset of MNIST that is very small, to better understand the effect of augmentation."
      ]
    },
    {
      "cell_type": "markdown",
      "source": [
        "Now, we are performing a common preprocessing step called \"scaling\" or \"normalization.\" The MNIST dataset consists of grayscale images where pixel values typically range from 0 (black) to 255 (white)."
      ],
      "metadata": {
        "id": "uKKh51N7Af0o"
      }
    },
    {
      "cell_type": "code",
      "metadata": {
        "id": "gJvmWJ58ovx5",
        "colab": {
          "base_uri": "https://localhost:8080/"
        },
        "outputId": "6a6b843d-3011-41d3-f1e5-734efa8ea12b"
      },
      "source": [
        "#loading the dataset\n",
        "(train_X, train_y), (test_X, test_y) = mnist.load_data()\n",
        "train_X = train_X/255\n",
        "test_X = test_X/255\n",
        "\n",
        "train_X = train_X[::1200,:,:].copy() # subsample. Otherwise it will take too long!\n",
        "train_y = train_y[::1200].copy() # do the same to the labels"
      ],
      "execution_count": 2,
      "outputs": [
        {
          "output_type": "stream",
          "name": "stdout",
          "text": [
            "Downloading data from https://storage.googleapis.com/tensorflow/tf-keras-datasets/mnist.npz\n",
            "11490434/11490434 [==============================] - 1s 0us/step\n"
          ]
        }
      ]
    },
    {
      "cell_type": "markdown",
      "metadata": {
        "id": "8XamH6z1Rt7S"
      },
      "source": [
        "Let us borrow a few functions from the previous labs:"
      ]
    },
    {
      "cell_type": "code",
      "metadata": {
        "id": "Zk2W5_3BRLMS"
      },
      "source": [
        "def NN1(traindata, trainlabel, query):\n",
        "  diff  = traindata - query  # find the difference between features. Numpy automatically takes care of the size here\n",
        "  sq = diff*diff # square the differences\n",
        "  dist = sq.sum(1) # add up the squares\n",
        "  label = trainlabel[np.argmin(dist)] # our predicted label is the label of the training data which has the least distance from the query\n",
        "  return label\n",
        "\n",
        "def NN(traindata, trainlabel, testdata):\n",
        "  # we will run nearest neighbour for each sample in the test data\n",
        "  # and collect the predicted classes in an array using list comprehension\n",
        "  traindata = traindata.reshape(-1, 28*28)\n",
        "  testdata = testdata.reshape(-1,28*28)\n",
        "  predlabel = np.array([NN1(traindata, trainlabel, i) for i in testdata])\n",
        "  return predlabel\n",
        "\n",
        "def Accuracy(gtlabel, predlabel):\n",
        "  assert len(gtlabel)==len(predlabel), \"Length of the groundtruth labels and predicted labels should be the same\"\n",
        "  correct = (gtlabel==predlabel).sum() # count the number of times the groundtruth label is equal to the predicted label.\n",
        "  return correct/len(gtlabel)"
      ],
      "execution_count": 3,
      "outputs": []
    },
    {
      "cell_type": "markdown",
      "metadata": {
        "id": "eGiA3LmDSJZo"
      },
      "source": [
        "In this lab, we will use the image pixels themselves as features, instead of extracting features. Each image has 28*28 pixels, so we will flatten them to 784 pixels to use as features. Note that this is very compute intensive and will take a long time.<br>\n",
        "\n",
        "Let us check the baseline accuracy on the test set without any augmentations. We hope that adding augmentations will help us to get better results."
      ]
    },
    {
      "cell_type": "code",
      "metadata": {
        "id": "4tQvnoasRNEV",
        "colab": {
          "base_uri": "https://localhost:8080/"
        },
        "outputId": "7b49e9d8-00ea-4df8-8b0f-d19985d4ac39"
      },
      "source": [
        "testpred = NN(train_X, train_y, test_X)\n",
        "print('Baseline accuracy without augmentation is ', Accuracy(test_y, testpred))"
      ],
      "execution_count": 4,
      "outputs": [
        {
          "output_type": "stream",
          "name": "stdout",
          "text": [
            "Baseline accuracy without augmentation is  0.6472\n"
          ]
        }
      ]
    },
    {
      "cell_type": "markdown",
      "metadata": {
        "id": "ZfkcMfhIZQ7U"
      },
      "source": [
        "Let us try to improve this accuracy using augmentations. When we create augmentations, we have to make sure that the changes reflect what will naturally occur in the dataset. For example, we should not add colour to our samples as an augmentation because they do not naturally occur. We should not also flip the images in MNIST, because flipped images have different meanings for digits.\n",
        "\n",
        "### Augmentation 1: rotation\n",
        "\n",
        "Let us try rotating the image a little. We will use skimage library for this."
      ]
    },
    {
      "cell_type": "code",
      "metadata": {
        "id": "z5WolJ9fZE7L",
        "colab": {
          "base_uri": "https://localhost:8080/",
          "height": 860
        },
        "outputId": "f6d665f3-e78c-4999-b46b-b21bddee38b5"
      },
      "source": [
        "plt.imshow(train_X[2], cmap='gray')\n",
        "plt.show()\n",
        "plt.imshow(rotate(train_X[2],25), cmap='gray')"
      ],
      "execution_count": 7,
      "outputs": [
        {
          "output_type": "display_data",
          "data": {
            "text/plain": [
              "<Figure size 640x480 with 1 Axes>"
            ],
            "image/png": "[encoded data removed]"
          },
          "metadata": {}
        },
        {
          "output_type": "execute_result",
          "data": {
            "text/plain": [
              "<matplotlib.image.AxesImage at 0x7b2dc5eb2620>"
            ]
          },
          "metadata": {},
          "execution_count": 7
        },
        {
          "output_type": "display_data",
          "data": {
            "text/plain": [
              "<Figure size 640x480 with 1 Axes>"
            ],
            "image/png": "[encoded data removed]"
          },
          "metadata": {}
        }
      ]
    },
    {
      "cell_type": "markdown",
      "metadata": {
        "id": "KE33Yxgggu0c"
      },
      "source": [
        "After rotating, the the class of the image is still the same. Let us make a function to rotate multiple images by random angles. We want a slightly different image every time we run this function. So, we generate a random number between 0 and 1 and change it so that it lies between -constraint/2 and +constraint/2"
      ]
    },
    {
      "cell_type": "code",
      "metadata": {
        "id": "vyM7pUV7Reze"
      },
      "source": [
        "def augRotate(sample, angleconstraint):\n",
        "  if angleconstraint==0:\n",
        "    return sample\n",
        "  if len(sample.shape)==2:\n",
        "    sample = np.expand_dims(sample, 0)  # make sure the sample is 3 dimensional\n",
        "  angle = rng.random(len(sample)) # generate random numbers for angles\n",
        "  angle = (angle-0.5)*angleconstraint # make the random angle constrained\n",
        "  nsample = sample.copy() # preallocate the augmented array to make it faster\n",
        "  for ii in range(len(sample)):\n",
        "    nsample[ii] = rotate(sample[ii], angle[ii])\n",
        "  return np.squeeze(nsample) # take care if the input had only one sample."
      ],
      "execution_count": 8,
      "outputs": []
    },
    {
      "cell_type": "markdown",
      "metadata": {
        "id": "kDk-N5VNjar9"
      },
      "source": [
        "This function returns a slightly different image each time we call it. So we can increase the number of images in the sample by any multiple."
      ]
    },
    {
      "cell_type": "code",
      "metadata": {
        "id": "Vw3O9zGFgI8K",
        "colab": {
          "base_uri": "https://localhost:8080/",
          "height": 639
        },
        "outputId": "9f96d1ee-2590-45e5-c983-5bb8f27f5b5e"
      },
      "source": [
        "sample = train_X[20]\n",
        "angleconstraint = 70\n",
        "# show the original image\n",
        "plt.imshow(sample, cmap='gray')\n",
        "plt.show()\n",
        "plt.subplot(1,3,1)\n",
        "plt.imshow(augRotate(sample, angleconstraint), cmap='gray') # show an augmented image\n",
        "plt.subplot(1,3,2)\n",
        "plt.imshow(augRotate(sample, angleconstraint), cmap='gray') # show another augmented image from the same sample\n",
        "plt.subplot(1,3,3)\n",
        "plt.imshow(augRotate(sample, angleconstraint), cmap='gray') # one more image from the same sample\n",
        "#subplot has 3 arguments (rows, columns, index of the current plot)"
      ],
      "execution_count": 11,
      "outputs": [
        {
          "output_type": "display_data",
          "data": {
            "text/plain": [
              "<Figure size 640x480 with 1 Axes>"
            ],
            "image/png": "[encoded data removed]"
          },
          "metadata": {}
        },
        {
          "output_type": "execute_result",
          "data": {
            "text/plain": [
              "<matplotlib.image.AxesImage at 0x7b2dc58e2500>"
            ]
          },
          "metadata": {},
          "execution_count": 11
        },
        {
          "output_type": "display_data",
          "data": {
            "text/plain": [
              "<Figure size 640x480 with 3 Axes>"
            ],
            "image/png": "[encoded data removed]"
          },
          "metadata": {}
        }
      ]
    },
    {
      "cell_type": "markdown",
      "metadata": {
        "id": "ytv3NxF-kgxN"
      },
      "source": [
        "Let us augment the whole dataset and see if this improves the test accuracy"
      ]
    },
    {
      "cell_type": "code",
      "metadata": {
        "id": "iNzNAoDBkRzj",
        "colab": {
          "base_uri": "https://localhost:8080/"
        },
        "outputId": "0597bee4-7dfa-403f-a315-f1b9be13cded"
      },
      "source": [
        "# hyperparameters\n",
        "angleconstraint = 60\n",
        "naugmentations = 5\n",
        "\n",
        "# augment\n",
        "augdata = train_X # we include the original images also in the augmented dataset\n",
        "auglabel = train_y\n",
        "for ii in range(naugmentations):\n",
        "  augdata = np.concatenate((augdata, augRotate(train_X, angleconstraint))) # concatenate the augmented data to the set\n",
        "  auglabel = np.concatenate((auglabel, train_y))  # the labels don't change when we augment\n",
        "\n",
        "# check the test accuracy\n",
        "testpred = NN(augdata, auglabel, test_X)\n",
        "print('Accuracy after rotation augmentation is ', Accuracy(test_y, testpred))"
      ],
      "execution_count": 12,
      "outputs": [
        {
          "output_type": "stream",
          "name": "stdout",
          "text": [
            "Accuracy after rotation augmentation is  0.668\n"
          ]
        }
      ]
    },
    {
      "cell_type": "markdown",
      "metadata": {
        "id": "E88Nt9s1p5R6"
      },
      "source": [
        "The angle constraint is a hyperparameter which we have to tune using a validation set. (Here we are not doing that for time constraints). Let us try a grid search to find the best angle constraint."
      ]
    },
    {
      "cell_type": "code",
      "metadata": {
        "id": "aiaFRLREmGp6",
        "colab": {
          "base_uri": "https://localhost:8080/"
        },
        "outputId": "6381bde4-17bf-463b-a87e-5fbe681c11f9"
      },
      "source": [
        "angleconstraints = [0,10,20,30,40,50,60,70,80,90] # the values we want to test\n",
        "accuracies = np.zeros(len(angleconstraints), dtype=np.float) # we will save the values here\n",
        "\n",
        "for ii in range(len(angleconstraints)):\n",
        "  # create the augmented dataset\n",
        "  augdata = train_X # we include the original images also in the augmented dataset\n",
        "  auglabel = train_y\n",
        "  for jj in range(naugmentations):\n",
        "    augdata = np.concatenate((augdata, augRotate(train_X, angleconstraints[ii]))) # concatenate the augmented data to the set\n",
        "    auglabel = np.concatenate((auglabel, train_y))  # the labels don't change when we augment\n",
        "\n",
        "  # check the test accuracy\n",
        "  testpred = NN(augdata, auglabel, test_X)\n",
        "  accuracies[ii] = Accuracy(test_y, testpred)\n",
        "  print('Accuracy after rotation augmentation constrained by ',angleconstraints[ii], ' is ', accuracies[ii], flush=True)"
      ],
      "execution_count": 18,
      "outputs": [
        {
          "output_type": "stream",
          "name": "stderr",
          "text": [
            "<ipython-input-18-2f14d3721156>:2: DeprecationWarning: `np.float` is a deprecated alias for the builtin `float`. To silence this warning, use `float` by itself. Doing this will not modify any behavior and is safe. If you specifically wanted the numpy scalar type, use `np.float64` here.\n",
            "Deprecated in NumPy 1.20; for more details and guidance: https://numpy.org/devdocs/release/1.20.0-notes.html#deprecations\n",
            "  accuracies = np.zeros(len(angleconstraints), dtype=np.float) # we will save the values here\n"
          ]
        },
        {
          "output_type": "stream",
          "name": "stdout",
          "text": [
            "Accuracy after rotation augmentation constrained by  0  is  0.6472\n",
            "Accuracy after rotation augmentation constrained by  10  is  0.6675\n",
            "Accuracy after rotation augmentation constrained by  20  is  0.6832\n",
            "Accuracy after rotation augmentation constrained by  30  is  0.6787\n",
            "Accuracy after rotation augmentation constrained by  40  is  0.6697\n",
            "Accuracy after rotation augmentation constrained by  50  is  0.6769\n",
            "Accuracy after rotation augmentation constrained by  60  is  0.6713\n",
            "Accuracy after rotation augmentation constrained by  70  is  0.658\n",
            "Accuracy after rotation augmentation constrained by  80  is  0.653\n",
            "Accuracy after rotation augmentation constrained by  90  is  0.6571\n"
          ]
        }
      ]
    },
    {
      "cell_type": "markdown",
      "metadata": {
        "id": "2oVDRYP2rxob"
      },
      "source": [
        "Let us see the best value for angle constraint: (Ideally this should be done on validation set, not test set)"
      ]
    },
    {
      "cell_type": "code",
      "metadata": {
        "id": "LqthJa_pmMHz",
        "colab": {
          "base_uri": "https://localhost:8080/",
          "height": 486
        },
        "outputId": "cbc0d069-c656-4a5a-f1b4-be8f36973498"
      },
      "source": [
        "fig = plt.figure()\n",
        "ax = fig.add_axes([0.1, 0.1, 0.8, 0.8]) # main axes\n",
        "# plot the variation of accuracy\n",
        "ax.plot(angleconstraints, accuracies)\n",
        "ax.set_xlabel('angle')\n",
        "ax.set_ylabel('accuracy')\n",
        "# plot the maximum accuracy\n",
        "maxind = np.argmax(accuracies)\n",
        "plt.scatter(angleconstraints[maxind], accuracies[maxind], c='red')"
      ],
      "execution_count": 19,
      "outputs": [
        {
          "output_type": "execute_result",
          "data": {
            "text/plain": [
              "<matplotlib.collections.PathCollection at 0x7b2dc4b6c2e0>"
            ]
          },
          "metadata": {},
          "execution_count": 19
        },
        {
          "output_type": "display_data",
          "data": {
            "text/plain": [
              "<Figure size 640x480 with 1 Axes>"
            ],
            "image/png": "[encoded data removed]"
          },
          "metadata": {}
        }
      ]
    },
    {
      "cell_type": "markdown",
      "metadata": {
        "id": "eJ8YuVfCuGTj"
      },
      "source": [
        "Let us try one more augmentation: shear. Here is what this looks like:"
      ]
    },
    {
      "cell_type": "code",
      "metadata": {
        "id": "pMiw46NLwssK"
      },
      "source": [
        "def shear(sample, amount):\n",
        "  tform = AffineTransform(shear = amount) # create the shear transform\n",
        "  img = warp(sample, tform) # apply the shear\n",
        "  # this makes the digit off-center. Since all the images in the test set are centralized, we will do the same here\n",
        "  col = img.sum(0).nonzero()[0]\n",
        "  row = img.sum(1).nonzero()[0]\n",
        "  if len(col)>0 and len(row)>0:\n",
        "    xshift = int(sample.shape[0]/2 - (row[0]+row[-1])/2)\n",
        "    yshift = int(sample.shape[1]/2 - (col[0]+col[-1])/2)\n",
        "    img = np.roll(img, (xshift, yshift),(0,1))\n",
        "  return img"
      ],
      "execution_count": 20,
      "outputs": []
    },
    {
      "cell_type": "code",
      "metadata": {
        "id": "4_u_EYpmnABK",
        "colab": {
          "base_uri": "https://localhost:8080/",
          "height": 860
        },
        "outputId": "d64efc29-3d2d-4b48-c637-b1dde53c8450"
      },
      "source": [
        "sample = train_X[2]\n",
        "plt.imshow(sample, cmap='gray')\n",
        "plt.show()\n",
        "\n",
        "# apply shear\n",
        "plt.imshow(shear(sample, 0.4), cmap='gray')"
      ],
      "execution_count": 21,
      "outputs": [
        {
          "output_type": "display_data",
          "data": {
            "text/plain": [
              "<Figure size 640x480 with 1 Axes>"
            ],
            "image/png": "[encoded data removed]"
          },
          "metadata": {}
        },
        {
          "output_type": "execute_result",
          "data": {
            "text/plain": [
              "<matplotlib.image.AxesImage at 0x7b2dc4a21a50>"
            ]
          },
          "metadata": {},
          "execution_count": 21
        },
        {
          "output_type": "display_data",
          "data": {
            "text/plain": [
              "<Figure size 640x480 with 1 Axes>"
            ],
            "image/png": "[encoded data removed]"
          },
          "metadata": {}
        }
      ]
    },
    {
      "cell_type": "markdown",
      "metadata": {
        "id": "lGnWMoyM2pK4"
      },
      "source": [
        "Create an augmentation function which applies a random shear according to the constraint we provide:"
      ]
    },
    {
      "cell_type": "code",
      "metadata": {
        "id": "-qLDJyGytwP5"
      },
      "source": [
        "def augShear(sample, shearconstraint):\n",
        "  if shearconstraint==0:\n",
        "    return sample\n",
        "  if len(sample.shape)==2:\n",
        "    sample = np.expand_dims(sample, 0)  # make sure the sample is 3 dimensional\n",
        "  amt = rng.random(len(sample)) # generate random numbers for shear\n",
        "  amt = (amt-0.5)*shearconstraint # make the random shear constrained\n",
        "  nsample = sample.copy() # preallocate the augmented array to make it faster\n",
        "  for ii in range(len(sample)):\n",
        "    nsample[ii] = shear(sample[ii], amt[ii])\n",
        "  return np.squeeze(nsample) # take care if the input had only one sample."
      ],
      "execution_count": 22,
      "outputs": []
    },
    {
      "cell_type": "markdown",
      "metadata": {
        "id": "s6lQcWW93suJ"
      },
      "source": [
        "Let us do a grid search to find the best shear constraint."
      ]
    },
    {
      "cell_type": "code",
      "metadata": {
        "id": "l_wrqPkrzBb_",
        "colab": {
          "base_uri": "https://localhost:8080/"
        },
        "outputId": "03d6bfb6-18a0-433a-d5b1-254a4d29d55c"
      },
      "source": [
        "shearconstraints = [0, 0.2,0.4,0.6,0.8,1.0,1.2,1.4,1.6,1.8,2.0] # the values we want to test\n",
        "accuracies = np.zeros(len(shearconstraints), dtype=np.float) # we will save the values here\n",
        "\n",
        "for ii in range(len(shearconstraints)):\n",
        "  # create the augmented dataset\n",
        "  augdata = train_X # we include the original images also in the augmented dataset\n",
        "  auglabel = train_y\n",
        "  for jj in range(naugmentations):\n",
        "    augdata = np.concatenate((augdata, augShear(train_X, shearconstraints[ii]))) # concatenate the augmented data to the set\n",
        "    auglabel = np.concatenate((auglabel, train_y))  # the labels don't change when we augment\n",
        "\n",
        "  # check the test accuracy\n",
        "  testpred = NN(augdata, auglabel, test_X)\n",
        "  accuracies[ii] = Accuracy(test_y, testpred)\n",
        "  print('Accuracy after shear augmentation constrained by ',shearconstraints[ii], ' is ', accuracies[ii], flush=True)"
      ],
      "execution_count": 23,
      "outputs": [
        {
          "output_type": "stream",
          "name": "stderr",
          "text": [
            "<ipython-input-23-8a89fef4983d>:2: DeprecationWarning: `np.float` is a deprecated alias for the builtin `float`. To silence this warning, use `float` by itself. Doing this will not modify any behavior and is safe. If you specifically wanted the numpy scalar type, use `np.float64` here.\n",
            "Deprecated in NumPy 1.20; for more details and guidance: https://numpy.org/devdocs/release/1.20.0-notes.html#deprecations\n",
            "  accuracies = np.zeros(len(shearconstraints), dtype=np.float) # we will save the values here\n"
          ]
        },
        {
          "output_type": "stream",
          "name": "stdout",
          "text": [
            "Accuracy after shear augmentation constrained by  0  is  0.6472\n",
            "Accuracy after shear augmentation constrained by  0.2  is  0.6189\n",
            "Accuracy after shear augmentation constrained by  0.4  is  0.6178\n",
            "Accuracy after shear augmentation constrained by  0.6  is  0.651\n",
            "Accuracy after shear augmentation constrained by  0.8  is  0.6484\n",
            "Accuracy after shear augmentation constrained by  1.0  is  0.6604\n",
            "Accuracy after shear augmentation constrained by  1.2  is  0.6517\n",
            "Accuracy after shear augmentation constrained by  1.4  is  0.6168\n",
            "Accuracy after shear augmentation constrained by  1.6  is  0.6147\n",
            "Accuracy after shear augmentation constrained by  1.8  is  0.6092\n",
            "Accuracy after shear augmentation constrained by  2.0  is  0.6198\n"
          ]
        }
      ]
    },
    {
      "cell_type": "code",
      "metadata": {
        "id": "EKaH-YR-zVnA",
        "colab": {
          "base_uri": "https://localhost:8080/",
          "height": 481
        },
        "outputId": "9e6111f2-1a36-479f-b687-91fa2fadde70"
      },
      "source": [
        "fig = plt.figure()\n",
        "ax = fig.add_axes([0.1, 0.1, 0.8, 0.8]) # main axes\n",
        "# plot the variation of accuracy\n",
        "ax.plot(shearconstraints, accuracies)\n",
        "ax.set_xlabel('angle')\n",
        "ax.set_ylabel('accuracy')\n",
        "# plot the maximum accuracy\n",
        "maxind = np.argmax(accuracies)\n",
        "plt.scatter(shearconstraints[maxind], accuracies[maxind], c='red')"
      ],
      "execution_count": 24,
      "outputs": [
        {
          "output_type": "execute_result",
          "data": {
            "text/plain": [
              "<matplotlib.collections.PathCollection at 0x7b2dc4bcff40>"
            ]
          },
          "metadata": {},
          "execution_count": 24
        },
        {
          "output_type": "display_data",
          "data": {
            "text/plain": [
              "<Figure size 640x480 with 1 Axes>"
            ],
            "image/png": "[encoded data removed]"
          },
          "metadata": {}
        }
      ]
    },
    {
      "cell_type": "markdown",
      "metadata": {
        "id": "ccfdbRcQ7Zgg"
      },
      "source": [
        "We can do multiple augmentations at the same time. Here is a function to do both shear and rotation to the sample. In this case, we will have two hyperparameters."
      ]
    },
    {
      "cell_type": "code",
      "metadata": {
        "id": "sh8S_Pxa0XCv"
      },
      "source": [
        "def augRotateShear(sample, angleconstraint, shearconstraint):\n",
        "  if len(sample.shape)==2:\n",
        "    sample = np.expand_dims(sample, 0)  # make sure the sample is 3 dimensional\n",
        "  amt = rng.random(len(sample)) # generate random numbers for shear\n",
        "  amt = (amt-0.5)*shearconstraint # make the random shear constrained\n",
        "  angle = rng.random(len(sample)) # generate random numbers for angles\n",
        "  angle = (angle-0.5)*angleconstraint # make the random angle constrained\n",
        "  nsample = sample.copy() # preallocate the augmented array to make it faster\n",
        "  for ii in range(len(sample)):\n",
        "    nsample[ii] = rotate(shear(sample[ii], amt[ii]), angle[ii]) # first apply shear, then rotate\n",
        "  return np.squeeze(nsample) # take care if the input had only one sample."
      ],
      "execution_count": 25,
      "outputs": []
    },
    {
      "cell_type": "markdown",
      "metadata": {
        "id": "OGKyjjNx-NQ4"
      },
      "source": [
        "Since we have two hyperparameters, we have to do the grid search on a 2 dimensional matrix. We can use our previous experience to inform where to search for the best hyperparameters."
      ]
    },
    {
      "cell_type": "code",
      "metadata": {
        "id": "TJC45WRg0pOP",
        "colab": {
          "base_uri": "https://localhost:8080/"
        },
        "outputId": "343a1780-96eb-4662-eef8-0cf3269bb762"
      },
      "source": [
        "shearconstraints = [0, 0.2,0.4,0.6,0.8,1.0,1.2,1.4,1.6] # the values we want to test\n",
        "angleconstraints = [0,10,20,30,40,50,60] # the values we want to test\n",
        "hyp = cartesian((shearconstraints, angleconstraints)) # cartesian product of both\n",
        "\n",
        "accuracies = np.zeros(len(hyp), dtype=np.float) # we will save the values here\n",
        "\n",
        "for ii in range(len(hyp)):\n",
        "  # create the augmented dataset\n",
        "  augdata = train_X # we include the original images also in the augmented dataset\n",
        "  auglabel = train_y\n",
        "  for jj in range(naugmentations):\n",
        "    augdata = np.concatenate((augdata, augRotateShear(train_X, hyp[ii][0], hyp[ii][1]))) # concatenate the augmented data to the set\n",
        "    auglabel = np.concatenate((auglabel, train_y))  # the labels don't change when we augment\n",
        "\n",
        "  # check the test accuracy\n",
        "  testpred = NN(augdata, auglabel, test_X)\n",
        "  accuracies[ii] = Accuracy(test_y, testpred)\n",
        "  print('Accuracy after augmentation shear:',hyp[ii][0], 'angle:',hyp[ii][1], ' is ', accuracies[ii], flush=True)"
      ],
      "execution_count": 26,
      "outputs": [
        {
          "output_type": "stream",
          "name": "stderr",
          "text": [
            "<ipython-input-26-09de780976d0>:5: DeprecationWarning: `np.float` is a deprecated alias for the builtin `float`. To silence this warning, use `float` by itself. Doing this will not modify any behavior and is safe. If you specifically wanted the numpy scalar type, use `np.float64` here.\n",
            "Deprecated in NumPy 1.20; for more details and guidance: https://numpy.org/devdocs/release/1.20.0-notes.html#deprecations\n",
            "  accuracies = np.zeros(len(hyp), dtype=np.float) # we will save the values here\n"
          ]
        },
        {
          "output_type": "stream",
          "name": "stdout",
          "text": [
            "Accuracy after augmentation shear: 0.0 angle: 0.0  is  0.6332\n",
            "Accuracy after augmentation shear: 0.0 angle: 10.0  is  0.5994\n",
            "Accuracy after augmentation shear: 0.0 angle: 20.0  is  0.6314\n",
            "Accuracy after augmentation shear: 0.0 angle: 30.0  is  0.6116\n",
            "Accuracy after augmentation shear: 0.0 angle: 40.0  is  0.6029\n",
            "Accuracy after augmentation shear: 0.0 angle: 50.0  is  0.6039\n",
            "Accuracy after augmentation shear: 0.0 angle: 60.0  is  0.6055\n",
            "Accuracy after augmentation shear: 0.2 angle: 0.0  is  0.6334\n",
            "Accuracy after augmentation shear: 0.2 angle: 10.0  is  0.5985\n",
            "Accuracy after augmentation shear: 0.2 angle: 20.0  is  0.6008\n",
            "Accuracy after augmentation shear: 0.2 angle: 30.0  is  0.5792\n",
            "Accuracy after augmentation shear: 0.2 angle: 40.0  is  0.5932\n",
            "Accuracy after augmentation shear: 0.2 angle: 50.0  is  0.6002\n",
            "Accuracy after augmentation shear: 0.2 angle: 60.0  is  0.617\n",
            "Accuracy after augmentation shear: 0.4 angle: 0.0  is  0.6335\n",
            "Accuracy after augmentation shear: 0.4 angle: 10.0  is  0.6049\n",
            "Accuracy after augmentation shear: 0.4 angle: 20.0  is  0.6062\n",
            "Accuracy after augmentation shear: 0.4 angle: 30.0  is  0.6275\n",
            "Accuracy after augmentation shear: 0.4 angle: 40.0  is  0.6015\n",
            "Accuracy after augmentation shear: 0.4 angle: 50.0  is  0.617\n",
            "Accuracy after augmentation shear: 0.4 angle: 60.0  is  0.6095\n",
            "Accuracy after augmentation shear: 0.6 angle: 0.0  is  0.6342\n",
            "Accuracy after augmentation shear: 0.6 angle: 10.0  is  0.6145\n",
            "Accuracy after augmentation shear: 0.6 angle: 20.0  is  0.5727\n",
            "Accuracy after augmentation shear: 0.6 angle: 30.0  is  0.5791\n",
            "Accuracy after augmentation shear: 0.6 angle: 40.0  is  0.5934\n",
            "Accuracy after augmentation shear: 0.6 angle: 50.0  is  0.5852\n",
            "Accuracy after augmentation shear: 0.6 angle: 60.0  is  0.627\n",
            "Accuracy after augmentation shear: 0.8 angle: 0.0  is  0.6334\n",
            "Accuracy after augmentation shear: 0.8 angle: 10.0  is  0.5766\n",
            "Accuracy after augmentation shear: 0.8 angle: 20.0  is  0.5938\n",
            "Accuracy after augmentation shear: 0.8 angle: 30.0  is  0.5967\n",
            "Accuracy after augmentation shear: 0.8 angle: 40.0  is  0.6001\n",
            "Accuracy after augmentation shear: 0.8 angle: 50.0  is  0.6065\n",
            "Accuracy after augmentation shear: 0.8 angle: 60.0  is  0.6071\n",
            "Accuracy after augmentation shear: 1.0 angle: 0.0  is  0.6345\n",
            "Accuracy after augmentation shear: 1.0 angle: 10.0  is  0.6\n",
            "Accuracy after augmentation shear: 1.0 angle: 20.0  is  0.5823\n",
            "Accuracy after augmentation shear: 1.0 angle: 30.0  is  0.6095\n",
            "Accuracy after augmentation shear: 1.0 angle: 40.0  is  0.5944\n",
            "Accuracy after augmentation shear: 1.0 angle: 50.0  is  0.5957\n",
            "Accuracy after augmentation shear: 1.0 angle: 60.0  is  0.6143\n",
            "Accuracy after augmentation shear: 1.2 angle: 0.0  is  0.6344\n",
            "Accuracy after augmentation shear: 1.2 angle: 10.0  is  0.5956\n",
            "Accuracy after augmentation shear: 1.2 angle: 20.0  is  0.5955\n",
            "Accuracy after augmentation shear: 1.2 angle: 30.0  is  0.5936\n",
            "Accuracy after augmentation shear: 1.2 angle: 40.0  is  0.6047\n",
            "Accuracy after augmentation shear: 1.2 angle: 50.0  is  0.6053\n",
            "Accuracy after augmentation shear: 1.2 angle: 60.0  is  0.6014\n",
            "Accuracy after augmentation shear: 1.4 angle: 0.0  is  0.6331\n",
            "Accuracy after augmentation shear: 1.4 angle: 10.0  is  0.6019\n",
            "Accuracy after augmentation shear: 1.4 angle: 20.0  is  0.5971\n",
            "Accuracy after augmentation shear: 1.4 angle: 30.0  is  0.5782\n",
            "Accuracy after augmentation shear: 1.4 angle: 40.0  is  0.5954\n",
            "Accuracy after augmentation shear: 1.4 angle: 50.0  is  0.6072\n",
            "Accuracy after augmentation shear: 1.4 angle: 60.0  is  0.5986\n",
            "Accuracy after augmentation shear: 1.6 angle: 0.0  is  0.6352\n",
            "Accuracy after augmentation shear: 1.6 angle: 10.0  is  0.586\n",
            "Accuracy after augmentation shear: 1.6 angle: 20.0  is  0.6037\n",
            "Accuracy after augmentation shear: 1.6 angle: 30.0  is  0.5817\n",
            "Accuracy after augmentation shear: 1.6 angle: 40.0  is  0.6022\n",
            "Accuracy after augmentation shear: 1.6 angle: 50.0  is  0.6158\n",
            "Accuracy after augmentation shear: 1.6 angle: 60.0  is  0.6042\n"
          ]
        }
      ]
    },
    {
      "cell_type": "markdown",
      "metadata": {
        "id": "PT6CnvSDEX7a"
      },
      "source": [
        "Let us plot it two dimensionally to see which is the best value for the hyperparameters:"
      ]
    },
    {
      "cell_type": "code",
      "metadata": {
        "id": "jD2i7msI_cLd",
        "colab": {
          "base_uri": "https://localhost:8080/",
          "height": 481
        },
        "outputId": "a3a37fb4-27d7-4e03-eafd-3737e602fb4e"
      },
      "source": [
        "fig = plt.figure()\n",
        "ax = fig.add_axes([0.1, 0.1, 0.8, 0.8]) # main axes\n",
        "im = ax.imshow(accuracies.reshape((len(shearconstraints), len(angleconstraints))), cmap='inferno')\n",
        "ax.set_xlabel('angle')\n",
        "ax.set_ylabel('shear')\n",
        "ax.set_xticks(np.arange(len(angleconstraints)));\n",
        "ax.set_xticklabels(angleconstraints);\n",
        "ax.set_yticks(np.arange(len(shearconstraints)));\n",
        "ax.set_yticklabels(shearconstraints);\n",
        "plt.colorbar(im)"
      ],
      "execution_count": 27,
      "outputs": [
        {
          "output_type": "execute_result",
          "data": {
            "text/plain": [
              "<matplotlib.colorbar.Colorbar at 0x7b2dc4ba3580>"
            ]
          },
          "metadata": {},
          "execution_count": 27
        },
        {
          "output_type": "display_data",
          "data": {
            "text/plain": [
              "<Figure size 640x480 with 2 Axes>"
            ],
            "image/png": "[encoded data removed]"
          },
          "metadata": {}
        }
      ]
    },
    {
      "cell_type": "markdown",
      "metadata": {
        "id": "OHcZWJiFJDMh"
      },
      "source": [
        "It seems that rotation and shear don't mix! The best accuracy is when rotation is zero."
      ]
    },
    {
      "cell_type": "markdown",
      "metadata": {
        "id": "PAasQo1C3x4A"
      },
      "source": [
        "## Questions\n",
        "Try these questions for better understanding. You may not be able to solve all of them.\n",
        "1. What is the best value for angle constraint and shear constraint you got? How much did the accuracy improve as compared to not using augmentations?\n",
        "2. Can you increase the accuracy by increasing the number of augmentations from each sample?\n",
        "3. Try implementing a few augmentations of your own and experimenting with them. A good reference is <a href=https://www.analyticsvidhya.com/blog/2019/12/image-augmentation-deep-learning-pytorch/>here. </a>\n",
        "4. Try combining various augmentations. What is the highest accuracy you can get? What is the smallest training dataset you can take and still get accuracy above 50%?\n",
        "\n",
        "Whenever you do any experiment, a good practice is to vary the hyperparameters gradually and create a graph of your results, like we did for gridsearch."
      ]
    },
    {
      "cell_type": "markdown",
      "source": [
        "**SOLUTIONS**"
      ],
      "metadata": {
        "id": "jE-l4RDskEyK"
      }
    },
    {
      "cell_type": "markdown",
      "source": [
        "#1)\n",
        "The best value for angle constraint and shear constraint we got from the above experimentation is: \\\n",
        "An Accuracy of ***68.32%*** for the value of ***20 degrees*** rotation for Angle Constraint.\\\n",
        "An Accuracy of ***66.04%*** for the value of ***1.0*** for Shear Constraint.\\\n",
        "The  Baseline Accuracy before applying the Augmentations is ***64.72%***.\\\n",
        "So, if we Augment the image by using the Angle Constraint then the accuracy improved by ***3.6%***.\\\n",
        "If we Augment the image by using the Shear Constraint then the accuracy improved by ***1.32%***."
      ],
      "metadata": {
        "id": "IC9CN8hNkO9f"
      }
    },
    {
      "cell_type": "code",
      "source": [
        "best_accuracy = np.max(accuracies)\n",
        "best_index = np.argmax(accuracies)\n",
        "best_shear_constraint, best_angle_constraint = hyp[best_index]\n",
        "\n",
        "print(\"Best Shear Constraint:\", best_shear_constraint)\n",
        "print(\"Best Angle Constraint:\", best_angle_constraint)\n",
        "print(\"Best Accuracy:\", best_accuracy)\n",
        "\n",
        "# Calculate accuracy improvement\n",
        "baseline_accuracy = Accuracy(test_y, testpred)  # Baseline accuracy without augmentation\n",
        "accuracy_improvement = best_accuracy - baseline_accuracy\n",
        "print(\"Accuracy Improvement:\", accuracy_improvement)"
      ],
      "metadata": {
        "colab": {
          "base_uri": "https://localhost:8080/"
        },
        "id": "opXZKPlRz46m",
        "outputId": "b20bd033-c4bb-4e8c-81e1-98f2a068bdeb"
      },
      "execution_count": 57,
      "outputs": [
        {
          "output_type": "stream",
          "name": "stdout",
          "text": [
            "Best Shear Constraint: 1.0\n",
            "Best Angle Constraint: 0.0\n",
            "Best Accuracy: 0.6354\n",
            "Accuracy Improvement: 0.03079999999999994\n"
          ]
        }
      ]
    },
    {
      "cell_type": "markdown",
      "source": [
        "#2)\n",
        "Yes, Increasing the number of augmentations from each sample can potentially improve the accuracy of machine learning models.\\\n",
        "Data augmentation involves creating new training examples by applying various transformations or modifications to the existing data. This helps the model generalize better by exposing it to a wider range of variations in the input data."
      ],
      "metadata": {
        "id": "BH81JBrEnXAV"
      }
    },
    {
      "cell_type": "code",
      "source": [
        "# Experimenting with different naugmentations values\n",
        "naugmentations_values = [5, 10, 15]  # Experiment with more values if needed\n",
        "\n",
        "for naugmentations_value in naugmentations_values:\n",
        "    # Modify the naugmentations variable\n",
        "    naugmentations = naugmentations_value\n",
        "\n",
        "    # Augment the dataset\n",
        "    augdata = train_X\n",
        "    auglabel = train_y\n",
        "    for ii in range(naugmentations):\n",
        "        augdata = np.concatenate((augdata, augRotateShear(train_X, best_shear_constraint, best_angle_constraint)))\n",
        "        auglabel = np.concatenate((auglabel, train_y))\n",
        "\n",
        "    # Check the test accuracy\n",
        "    testpred = NN(augdata, auglabel, test_X)\n",
        "    augmented_accuracy = Accuracy(test_y, testpred)\n",
        "    print(f\"Accuracy with {naugmentations_value} augmentations: {augmented_accuracy}\")\n"
      ],
      "metadata": {
        "colab": {
          "base_uri": "https://localhost:8080/"
        },
        "id": "T0sGFFPG0kZh",
        "outputId": "cdf7c58f-edb9-4530-c2d8-b9424330919b"
      },
      "execution_count": 58,
      "outputs": [
        {
          "output_type": "stream",
          "name": "stdout",
          "text": [
            "Accuracy with 5 augmentations: 0.6353\n",
            "Accuracy with 10 augmentations: 0.6344\n",
            "Accuracy with 15 augmentations: 0.635\n"
          ]
        }
      ]
    },
    {
      "cell_type": "markdown",
      "source": [
        "#3)\n",
        "Few other augmentations that can be experimented on the image to improve the accuracy.."
      ],
      "metadata": {
        "id": "AG2-k37gn3T3"
      }
    },
    {
      "cell_type": "code",
      "source": [
        "import warnings\n",
        "warnings.filterwarnings('ignore')\n",
        "import numpy as np\n",
        "import skimage.io as io\n",
        "from skimage.transform import rotate, AffineTransform, warp\n",
        "from skimage.util import random_noise\n",
        "from skimage.filters import gaussian\n",
        "import matplotlib.pyplot as plt\n",
        "from sklearn.metrics import accuracy_score\n",
        "%matplotlib inline"
      ],
      "metadata": {
        "id": "T7III3-fon1I"
      },
      "execution_count": 37,
      "outputs": []
    },
    {
      "cell_type": "code",
      "source": [
        "def augTranslate(sample, max_translation):\n",
        "    if max_translation == 0:\n",
        "        return sample\n",
        "\n",
        "    x_translation = rng.integers(low=-max_translation, high=max_translation)\n",
        "    y_translation = rng.integers(low=-max_translation, high=max_translation)\n",
        "    translated_sample = np.roll(sample, (x_translation, y_translation), (0, 1))\n",
        "    return translated_sample\n",
        "\n",
        "# Usage of the custom augmentation\n",
        "max_translation = 2  # Experiment with different values\n",
        "augmented_sample = augTranslate(sample, max_translation)\n",
        "\n",
        "# Display the augmented image\n",
        "plt.imshow(augmented_sample, cmap='gray')\n",
        "plt.show()"
      ],
      "metadata": {
        "colab": {
          "base_uri": "https://localhost:8080/",
          "height": 430
        },
        "id": "FhXhiJH1028d",
        "outputId": "16e7b08a-7060-490e-fed1-9f0ea78d30ab"
      },
      "execution_count": 60,
      "outputs": [
        {
          "output_type": "display_data",
          "data": {
            "text/plain": [
              "<Figure size 640x480 with 1 Axes>"
            ],
            "image/png": "[encoded data removed]"
          },
          "metadata": {}
        }
      ]
    },
    {
      "cell_type": "markdown",
      "source": [
        "***Shifting the Image :***\\\n",
        "By shifting the images, we can change the position of the object in the image and hence give more variety to the model. This will eventually lead to a more generalized model."
      ],
      "metadata": {
        "id": "nrm2KrGJxMZt"
      }
    },
    {
      "cell_type": "code",
      "source": [
        "#apply shift operation\n",
        "transform = AffineTransform(translation=(25,25))\n",
        "wrapShift = warp(sample,transform,mode='wrap')\n",
        "plt.imshow(wrapShift, cmap='gray')\n",
        "plt.title('Wrap Shift')"
      ],
      "metadata": {
        "colab": {
          "base_uri": "https://localhost:8080/",
          "height": 469
        },
        "id": "L6yDifsZpbWg",
        "outputId": "0bb262b1-4b05-40fc-b722-c68520ba9027"
      },
      "execution_count": 36,
      "outputs": [
        {
          "output_type": "execute_result",
          "data": {
            "text/plain": [
              "Text(0.5, 1.0, 'Wrap Shift')"
            ]
          },
          "metadata": {},
          "execution_count": 36
        },
        {
          "output_type": "display_data",
          "data": {
            "text/plain": [
              "<Figure size 640x480 with 1 Axes>"
            ],
            "image/png": "[encoded data removed]"
          },
          "metadata": {}
        }
      ]
    },
    {
      "cell_type": "markdown",
      "source": [
        "***Flipping the Image :***\\\n",
        "Flipping is an extension of rotation. It allows us to flip the image in the left-right as well as up-down direction."
      ],
      "metadata": {
        "id": "OMomZZc3xS7x"
      }
    },
    {
      "cell_type": "code",
      "source": [
        "#flip image left-to-right\n",
        "flipLR = np.fliplr(sample)\n",
        "\n",
        "plt.imshow(flipLR, cmap='gray')\n",
        "plt.title('Left to Right Flipped')"
      ],
      "metadata": {
        "colab": {
          "base_uri": "https://localhost:8080/",
          "height": 469
        },
        "id": "pxadGzDXwZRj",
        "outputId": "dbaef120-9104-4b78-bedf-dcfa64c1ba18"
      },
      "execution_count": 51,
      "outputs": [
        {
          "output_type": "execute_result",
          "data": {
            "text/plain": [
              "Text(0.5, 1.0, 'Left to Right Flipped')"
            ]
          },
          "metadata": {},
          "execution_count": 51
        },
        {
          "output_type": "display_data",
          "data": {
            "text/plain": [
              "<Figure size 640x480 with 1 Axes>"
            ],
            "image/png": "[encoded data removed]"
          },
          "metadata": {}
        }
      ]
    },
    {
      "cell_type": "code",
      "source": [
        "#flip image up-to-down\n",
        "flipUD = np.flipud(sample)\n",
        "\n",
        "plt.imshow(flipUD, cmap='gray')\n",
        "plt.title('Up Down Flipped')"
      ],
      "metadata": {
        "colab": {
          "base_uri": "https://localhost:8080/",
          "height": 469
        },
        "id": "fBZTtIMkwsRk",
        "outputId": "0bb7f4c1-f228-4ebf-b4bf-e2b2703de5bf"
      },
      "execution_count": 53,
      "outputs": [
        {
          "output_type": "execute_result",
          "data": {
            "text/plain": [
              "Text(0.5, 1.0, 'Up Down Flipped')"
            ]
          },
          "metadata": {},
          "execution_count": 53
        },
        {
          "output_type": "display_data",
          "data": {
            "text/plain": [
              "<Figure size 640x480 with 1 Axes>"
            ],
            "image/png": "[encoded data removed]"
          },
          "metadata": {}
        }
      ]
    },
    {
      "cell_type": "markdown",
      "source": [
        "***Adding Noise to the Image:***\\\n",
        "Image noising is an important augmentation step that allows our model to learn how to separate signal from noise in an image. This also makes the model more robust to changes in the input.\n",
        "\n"
      ],
      "metadata": {
        "id": "wnj5uGAsxrVn"
      }
    },
    {
      "cell_type": "code",
      "source": [
        "#standard deviation for noise to be added in the image\n",
        "sigma=0.155\n",
        "#add random noise to the image\n",
        "noisyRandom = random_noise(sample,var=sigma**2)\n",
        "\n",
        "plt.imshow(noisyRandom, cmap='gray')\n",
        "plt.title('Random Noise')"
      ],
      "metadata": {
        "colab": {
          "base_uri": "https://localhost:8080/",
          "height": 469
        },
        "id": "kDtB2evGw30Y",
        "outputId": "b14f9c77-9685-4ed6-b382-851f88e50f46"
      },
      "execution_count": 54,
      "outputs": [
        {
          "output_type": "execute_result",
          "data": {
            "text/plain": [
              "Text(0.5, 1.0, 'Random Noise')"
            ]
          },
          "metadata": {},
          "execution_count": 54
        },
        {
          "output_type": "display_data",
          "data": {
            "text/plain": [
              "<Figure size 640x480 with 1 Axes>"
            ],
            "image/png": "[encoded data removed]"
          },
          "metadata": {}
        }
      ]
    },
    {
      "cell_type": "markdown",
      "source": [
        "***Blurring the Image :***\\\n",
        "Images come from different sources. And hence, the quality of the images will not be the same from each source. Some images might be of very high quality while others might be just plain bad.\n",
        "\n",
        "In such scenarios, we can blur the image.\n",
        "\n",
        " This helps make our deep learning model more robust."
      ],
      "metadata": {
        "id": "3_jpYP-fx46v"
      }
    },
    {
      "cell_type": "code",
      "source": [
        "#blur the image\n",
        "blurred = gaussian(sample,sigma=1,multichannel=True)\n",
        "\n",
        "plt.imshow(blurred, cmap='gray')\n",
        "plt.title('Blurred Image')"
      ],
      "metadata": {
        "colab": {
          "base_uri": "https://localhost:8080/",
          "height": 469
        },
        "id": "mvHCzWgBw8cC",
        "outputId": "312fa969-b53d-4647-a4c3-2432bd2a5ae4"
      },
      "execution_count": 55,
      "outputs": [
        {
          "output_type": "execute_result",
          "data": {
            "text/plain": [
              "Text(0.5, 1.0, 'Blurred Image')"
            ]
          },
          "metadata": {},
          "execution_count": 55
        },
        {
          "output_type": "display_data",
          "data": {
            "text/plain": [
              "<Figure size 640x480 with 1 Axes>"
            ],
            "image/png": "[encoded data removed]"
          },
          "metadata": {}
        }
      ]
    },
    {
      "cell_type": "markdown",
      "source": [
        "#4)\n",
        "Combining various augmentations"
      ],
      "metadata": {
        "id": "yzlID_GhyfO_"
      }
    },
    {
      "cell_type": "code",
      "source": [
        "shearconstraints = [0, 0.2,0.4,0.6,0.8,1.0,1.2,1.4,1.6] # the values we want to test\n",
        "angleconstraints = [0,10,20,30,40,50,60] # the values we want to test\n",
        "hyp = cartesian((shearconstraints, angleconstraints)) # cartesian product of both\n",
        "\n",
        "accuracies = np.zeros(len(hyp), dtype=np.float) # we will save the values here\n",
        "\n",
        "for ii in range(len(hyp)):\n",
        "  # create the augmented dataset\n",
        "  augdata = train_X # we include the original images also in the augmented dataset\n",
        "  auglabel = train_y\n",
        "  for jj in range(naugmentations):\n",
        "    augdata = np.concatenate((augdata, augRotateShear(train_X, hyp[ii][0], hyp[ii][1]))) # concatenate the augmented data to the set\n",
        "    auglabel = np.concatenate((auglabel, train_y))  # the labels don't change when we augment\n",
        "\n",
        "  # check the test accuracy\n",
        "  testpred = NN(augdata, auglabel, test_X)\n",
        "  accuracies[ii] = Accuracy(test_y, testpred)\n",
        "  print('Accuracy after augmentation shear:',hyp[ii][0], '$ angle:',hyp[ii][1], ' is ', accuracies[ii], flush=True)"
      ],
      "metadata": {
        "colab": {
          "base_uri": "https://localhost:8080/"
        },
        "id": "FynmMrCCysgy",
        "outputId": "2b19542b-5bae-4bdf-c82e-0d2c2319f342"
      },
      "execution_count": 56,
      "outputs": [
        {
          "output_type": "stream",
          "name": "stdout",
          "text": [
            "Accuracy after augmentation shear: 0.0 $ angle: 0.0  is  0.6332\n",
            "Accuracy after augmentation shear: 0.0 $ angle: 10.0  is  0.6202\n",
            "Accuracy after augmentation shear: 0.0 $ angle: 20.0  is  0.6175\n",
            "Accuracy after augmentation shear: 0.0 $ angle: 30.0  is  0.6032\n",
            "Accuracy after augmentation shear: 0.0 $ angle: 40.0  is  0.5961\n",
            "Accuracy after augmentation shear: 0.0 $ angle: 50.0  is  0.5956\n",
            "Accuracy after augmentation shear: 0.0 $ angle: 60.0  is  0.5958\n",
            "Accuracy after augmentation shear: 0.2 $ angle: 0.0  is  0.6329\n",
            "Accuracy after augmentation shear: 0.2 $ angle: 10.0  is  0.5958\n",
            "Accuracy after augmentation shear: 0.2 $ angle: 20.0  is  0.6041\n",
            "Accuracy after augmentation shear: 0.2 $ angle: 30.0  is  0.6247\n",
            "Accuracy after augmentation shear: 0.2 $ angle: 40.0  is  0.6083\n",
            "Accuracy after augmentation shear: 0.2 $ angle: 50.0  is  0.5984\n",
            "Accuracy after augmentation shear: 0.2 $ angle: 60.0  is  0.5786\n",
            "Accuracy after augmentation shear: 0.4 $ angle: 0.0  is  0.6344\n",
            "Accuracy after augmentation shear: 0.4 $ angle: 10.0  is  0.5887\n",
            "Accuracy after augmentation shear: 0.4 $ angle: 20.0  is  0.603\n",
            "Accuracy after augmentation shear: 0.4 $ angle: 30.0  is  0.6161\n",
            "Accuracy after augmentation shear: 0.4 $ angle: 40.0  is  0.5979\n",
            "Accuracy after augmentation shear: 0.4 $ angle: 50.0  is  0.5989\n",
            "Accuracy after augmentation shear: 0.4 $ angle: 60.0  is  0.5981\n",
            "Accuracy after augmentation shear: 0.6 $ angle: 0.0  is  0.6349\n",
            "Accuracy after augmentation shear: 0.6 $ angle: 10.0  is  0.607\n",
            "Accuracy after augmentation shear: 0.6 $ angle: 20.0  is  0.5897\n",
            "Accuracy after augmentation shear: 0.6 $ angle: 30.0  is  0.5827\n",
            "Accuracy after augmentation shear: 0.6 $ angle: 40.0  is  0.5977\n",
            "Accuracy after augmentation shear: 0.6 $ angle: 50.0  is  0.6035\n",
            "Accuracy after augmentation shear: 0.6 $ angle: 60.0  is  0.6181\n",
            "Accuracy after augmentation shear: 0.8 $ angle: 0.0  is  0.6341\n",
            "Accuracy after augmentation shear: 0.8 $ angle: 10.0  is  0.6051\n",
            "Accuracy after augmentation shear: 0.8 $ angle: 20.0  is  0.6106\n",
            "Accuracy after augmentation shear: 0.8 $ angle: 30.0  is  0.5875\n",
            "Accuracy after augmentation shear: 0.8 $ angle: 40.0  is  0.6002\n",
            "Accuracy after augmentation shear: 0.8 $ angle: 50.0  is  0.6001\n",
            "Accuracy after augmentation shear: 0.8 $ angle: 60.0  is  0.598\n",
            "Accuracy after augmentation shear: 1.0 $ angle: 0.0  is  0.6354\n",
            "Accuracy after augmentation shear: 1.0 $ angle: 10.0  is  0.5769\n",
            "Accuracy after augmentation shear: 1.0 $ angle: 20.0  is  0.589\n",
            "Accuracy after augmentation shear: 1.0 $ angle: 30.0  is  0.6058\n",
            "Accuracy after augmentation shear: 1.0 $ angle: 40.0  is  0.5826\n",
            "Accuracy after augmentation shear: 1.0 $ angle: 50.0  is  0.6125\n",
            "Accuracy after augmentation shear: 1.0 $ angle: 60.0  is  0.6201\n",
            "Accuracy after augmentation shear: 1.2 $ angle: 0.0  is  0.6344\n",
            "Accuracy after augmentation shear: 1.2 $ angle: 10.0  is  0.586\n",
            "Accuracy after augmentation shear: 1.2 $ angle: 20.0  is  0.5996\n",
            "Accuracy after augmentation shear: 1.2 $ angle: 30.0  is  0.5951\n",
            "Accuracy after augmentation shear: 1.2 $ angle: 40.0  is  0.6226\n",
            "Accuracy after augmentation shear: 1.2 $ angle: 50.0  is  0.6205\n",
            "Accuracy after augmentation shear: 1.2 $ angle: 60.0  is  0.6086\n",
            "Accuracy after augmentation shear: 1.4 $ angle: 0.0  is  0.634\n",
            "Accuracy after augmentation shear: 1.4 $ angle: 10.0  is  0.5809\n",
            "Accuracy after augmentation shear: 1.4 $ angle: 20.0  is  0.5723\n",
            "Accuracy after augmentation shear: 1.4 $ angle: 30.0  is  0.6067\n",
            "Accuracy after augmentation shear: 1.4 $ angle: 40.0  is  0.6112\n",
            "Accuracy after augmentation shear: 1.4 $ angle: 50.0  is  0.5805\n",
            "Accuracy after augmentation shear: 1.4 $ angle: 60.0  is  0.5929\n",
            "Accuracy after augmentation shear: 1.6 $ angle: 0.0  is  0.6336\n",
            "Accuracy after augmentation shear: 1.6 $ angle: 10.0  is  0.5983\n",
            "Accuracy after augmentation shear: 1.6 $ angle: 20.0  is  0.6228\n",
            "Accuracy after augmentation shear: 1.6 $ angle: 30.0  is  0.606\n",
            "Accuracy after augmentation shear: 1.6 $ angle: 40.0  is  0.5961\n",
            "Accuracy after augmentation shear: 1.6 $ angle: 50.0  is  0.5953\n",
            "Accuracy after augmentation shear: 1.6 $ angle: 60.0  is  0.6046\n"
          ]
        }
      ]
    },
    {
      "cell_type": "markdown",
      "source": [
        "Hence, the highest accuracy we can get is after combining the angle augmentation of 0.0 and the shear augmentation of 1.6 is  ***63.52%***."
      ],
      "metadata": {
        "id": "AJOkxLoazGuh"
      }
    },
    {
      "cell_type": "code",
      "source": [
        "def augRotateShearTranslate(sample, angle_constraint, shear_constraint, max_translation):\n",
        "    # Apply rotation and shear\n",
        "    rotated_sheared_sample = rotate(shear(sample, shear_constraint), angle_constraint)\n",
        "\n",
        "    # Apply translation\n",
        "    translated_sample = augTranslate(rotated_sheared_sample, max_translation)\n",
        "    return translated_sample\n",
        "\n",
        "# Experimenting with different augmentation combinations\n",
        "max_translation_values = [0, 1, 2]  # Experiment with more values if needed\n",
        "\n",
        "highest_accuracy = 0.0\n",
        "\n",
        "for max_translation_value in max_translation_values:\n",
        "    augmented_data = train_X\n",
        "    augmented_label = train_y\n",
        "    for ii in range(naugmentations):\n",
        "        augmented_data = np.concatenate((\n",
        "            augmented_data, augRotateShearTranslate(train_X, best_angle_constraint, best_shear_constraint, max_translation_value)))\n",
        "        augmented_label = np.concatenate((augmented_label, train_y))\n",
        "\n",
        "    test_predictions = NN(augmented_data, augmented_label, test_X)\n",
        "    accuracy = Accuracy(test_y, test_predictions)\n",
        "\n",
        "    if accuracy > highest_accuracy:\n",
        "        highest_accuracy = accuracy\n",
        "\n",
        "print(\"Highest Accuracy with combined augmentations : \", highest_accuracy*100, \"%\")"
      ],
      "metadata": {
        "colab": {
          "base_uri": "https://localhost:8080/"
        },
        "id": "BIpry0iP1JfN",
        "outputId": "dff7682e-229f-4c69-b135-f2e3c242a322"
      },
      "execution_count": 62,
      "outputs": [
        {
          "output_type": "stream",
          "name": "stdout",
          "text": [
            "Highest Accuracy with combined augmentations :  56.3 %\n"
          ]
        }
      ]
    }
  ]
}